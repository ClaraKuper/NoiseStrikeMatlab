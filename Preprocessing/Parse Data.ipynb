{
 "cells": [
  {
   "cell_type": "code",
   "execution_count": 1,
   "metadata": {},
   "outputs": [],
   "source": [
    "# Parsing ascii files from the eyelink into eye position and data table files\n",
    "# Clara Kuper, September 2020\n",
    "\n",
    "import numpy as np\n",
    "import matplotlib.pyplot as plt\n",
    "import pandas as pd \n",
    "import ipywidgets as widgets"
   ]
  },
  {
   "cell_type": "code",
   "execution_count": 4,
   "metadata": {},
   "outputs": [
    {
     "ename": "FileNotFoundError",
     "evalue": "[Errno 2] No such file or directory: '../edf/ckts_NS.asc'",
     "output_type": "error",
     "traceback": [
      "\u001b[1;31m---------------------------------------------------------------------------\u001b[0m",
      "\u001b[1;31mFileNotFoundError\u001b[0m                         Traceback (most recent call last)",
      "\u001b[1;32m<ipython-input-4-bf6421d8d0d7>\u001b[0m in \u001b[0;36m<module>\u001b[1;34m\u001b[0m\n\u001b[1;32m----> 1\u001b[1;33m \u001b[0mf\u001b[0m \u001b[1;33m=\u001b[0m \u001b[0mopen\u001b[0m\u001b[1;33m(\u001b[0m\u001b[1;34m'../edf/ckts_NS.asc'\u001b[0m\u001b[1;33m,\u001b[0m\u001b[1;34m'r'\u001b[0m\u001b[1;33m)\u001b[0m\u001b[1;33m\u001b[0m\u001b[1;33m\u001b[0m\u001b[0m\n\u001b[0m\u001b[0;32m      2\u001b[0m \u001b[0ml\u001b[0m \u001b[1;33m=\u001b[0m \u001b[0mf\u001b[0m\u001b[1;33m.\u001b[0m\u001b[0mreadlines\u001b[0m\u001b[1;33m(\u001b[0m\u001b[1;33m)\u001b[0m\u001b[1;33m\u001b[0m\u001b[1;33m\u001b[0m\u001b[0m\n\u001b[0;32m      3\u001b[0m \u001b[0mread\u001b[0m \u001b[1;33m=\u001b[0m \u001b[1;32mFalse\u001b[0m\u001b[1;33m\u001b[0m\u001b[1;33m\u001b[0m\u001b[0m\n\u001b[0;32m      4\u001b[0m \u001b[0mline\u001b[0m \u001b[1;33m=\u001b[0m \u001b[1;36m0\u001b[0m\u001b[1;33m\u001b[0m\u001b[1;33m\u001b[0m\u001b[0m\n\u001b[0;32m      5\u001b[0m \u001b[1;33m\u001b[0m\u001b[0m\n",
      "\u001b[1;31mFileNotFoundError\u001b[0m: [Errno 2] No such file or directory: '../edf/ckts_NS.asc'"
     ]
    }
   ],
   "source": [
    "f = open('../edf/ckts_NS.asc','r')\n",
    "l = f.readlines()\n",
    "read = False\n",
    "line = 0\n",
    "\n",
    "while not read:\n",
    "    if l[line].find('BLOCK_START')>0:\n",
    "        start_id = line\n",
    "        read = True\n",
    "    line += 1\n",
    "\n",
    "raw_list = []\n",
    "events = []\n",
    "tr_nr = 0\n",
    "mov_type = 'unknown' #unknown, saccade, blink, fixation\n",
    "in_trial = False\n",
    "\n",
    "for line in l[start_id:]:\n",
    "    \n",
    "    append_message = [tr_nr, mov_type]\n",
    "    \n",
    "    if line[0:8].isnumeric():\n",
    "            position_data = np.hstack((line.split(),append_message))\n",
    "            raw_list.append(position_data)\n",
    "        \n",
    "    else:    \n",
    "        if line.find('SYNC_TIME')>=0:\n",
    "            sync_time = 0\n",
    "            continue\n",
    "        if line.find('TRIAL_START')>=0:\n",
    "            tr_nr += 1\n",
    "            in_trial = True\n",
    "            continue\n",
    "        if line.find('TRIAL_END')>=0:\n",
    "            in_trial = False\n",
    "            continue\n",
    "        if line.find('EXPERIMENT_END')>=0:\n",
    "            break\n",
    "\n",
    "        if in_trial:\n",
    "            if line[0:3]=='MSG':\n",
    "                # get time write to table\n",
    "                if line.find('RESPONSE')>=0:\n",
    "                    pass\n",
    "                if line.find('GO_SIGNAL')>=0:\n",
    "                    pass\n",
    "                else:\n",
    "                    print('other case')\n",
    "\n",
    "            if line.find('SSACC')>=0:\n",
    "                mov_type = 'saccade'\n",
    "            if line.find('ESACC')>=0:\n",
    "                mov_type = 'unknown'\n",
    "            if line.find('SFIX')>=0:\n",
    "                mov_type = 'fixation'\n",
    "            if line.find('EFIX')>=0:\n",
    "                mov_type = 'unknown' \n",
    "            if line.find('SBLINK')>=0:\n",
    "                mov_type = 'blink'\n",
    "            if line.find('EBLINK')>=0:\n",
    "                mov_type = 'unknown'\n"
   ]
  },
  {
   "cell_type": "code",
   "execution_count": 127,
   "metadata": {},
   "outputs": [],
   "source": [
    "eye_position = pd.DataFrame(raw_list, columns = ['time', 'x_pos', 'y_pos', 'pupil', 'right', 'trial', 'move_type'])"
   ]
  },
  {
   "cell_type": "code",
   "execution_count": 128,
   "metadata": {},
   "outputs": [],
   "source": [
    "no_x_pos_available = np.where(eye_position['x_pos'] == '.')\n",
    "no_y_pos_available = np.where(eye_position['y_pos'] == '.')\n",
    "no_pupil_available = np.where(eye_position['pupil'] == '.')\n",
    "\n",
    "eye_position['x_pos'].iloc[no_x_pos_available] = '0'\n",
    "eye_position['y_pos'].iloc[no_y_pos_available] = '0'\n",
    "eye_position['pupil'].iloc[no_pupil_available] = '0'\n",
    "\n",
    "eye_position['time'] = pd.to_numeric(eye_position['time'])\n",
    "eye_position['x_pos'] = pd.to_numeric(eye_position['x_pos'])\n",
    "eye_position['y_pos'] = pd.to_numeric(eye_position['y_pos'])\n",
    "eye_position['pupil'] = pd.to_numeric(eye_position['y_pos'])\n",
    "eye_position['trial'] = pd.to_numeric(eye_position['trial'])"
   ]
  },
  {
   "cell_type": "code",
   "execution_count": 131,
   "metadata": {},
   "outputs": [
    {
     "data": {
      "text/plain": [
       "array(['blink', 'fixation', 'saccade', 'unknown'], dtype=object)"
      ]
     },
     "execution_count": 131,
     "metadata": {},
     "output_type": "execute_result"
    }
   ],
   "source": []
  },
  {
   "cell_type": "code",
   "execution_count": 136,
   "metadata": {},
   "outputs": [
    {
     "data": {
      "application/vnd.jupyter.widget-view+json": {
       "model_id": "d3193c1d8ac742c5be0bbd3d6d43fc3e",
       "version_major": 2,
       "version_minor": 0
      },
      "text/plain": [
       "interactive(children=(IntSlider(value=1, continuous_update=False, description='Trial No:', max=1115), Output()…"
      ]
     },
     "metadata": {},
     "output_type": "display_data"
    },
    {
     "data": {
      "text/plain": [
       "<function __main__.plot_func(trial)>"
      ]
     },
     "execution_count": 136,
     "metadata": {},
     "output_type": "execute_result"
    }
   ],
   "source": [
    "# visualize eye position per trial\n",
    "def plot_func(trial):\n",
    "    \n",
    "    trial_data = eye_position.iloc[np.where(eye_position['trial']== trial)[0]]\n",
    "    trial_data['time'] = trial_data['time'] - trial_data['time'].iloc[0]  \n",
    "    groups = trial_data.groupby('move_type')\n",
    "    fig, axs = plt.subplots(1,1)\n",
    "    for name, group in groups:\n",
    "        axs.scatter(group['time'], group['y_pos'], label = name)\n",
    "        axs.scatter(group['time'], group['x_pos'], label = name)\n",
    "        axs.set_xlim([0,2500])\n",
    "        axs.set_ylim([0,2000])\n",
    "    axs.legend()\n",
    "\n",
    "\n",
    "trial_slider = widgets.IntSlider(min=0,\n",
    "    max=1115,                          \n",
    "    step=1,\n",
    "    description='Trial No:',\n",
    "    value=1,\n",
    "    continuous_update = False) #difference units drift\n",
    "\n",
    "widgets.interact(plot_func, trial = trial_slider)\n",
    "\n",
    "    "
   ]
  },
  {
   "cell_type": "code",
   "execution_count": null,
   "metadata": {},
   "outputs": [],
   "source": []
  },
  {
   "cell_type": "code",
   "execution_count": 74,
   "metadata": {},
   "outputs": [],
   "source": []
  },
  {
   "cell_type": "code",
   "execution_count": 78,
   "metadata": {},
   "outputs": [
    {
     "data": {
      "text/plain": [
       "2084"
      ]
     },
     "execution_count": 78,
     "metadata": {},
     "output_type": "execute_result"
    }
   ],
   "source": []
  },
  {
   "cell_type": "code",
   "execution_count": 82,
   "metadata": {},
   "outputs": [
    {
     "data": {
      "text/plain": [
       "2298"
      ]
     },
     "execution_count": 82,
     "metadata": {},
     "output_type": "execute_result"
    }
   ],
   "source": []
  }
 ],
 "metadata": {
  "kernelspec": {
   "display_name": "Python 3",
   "language": "python",
   "name": "python3"
  },
  "language_info": {
   "codemirror_mode": {
    "name": "ipython",
    "version": 3
   },
   "file_extension": ".py",
   "mimetype": "text/x-python",
   "name": "python",
   "nbconvert_exporter": "python",
   "pygments_lexer": "ipython3",
   "version": "3.7.6"
  }
 },
 "nbformat": 4,
 "nbformat_minor": 4
}

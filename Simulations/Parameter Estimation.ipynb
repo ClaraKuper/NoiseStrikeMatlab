{
 "cells": [
  {
   "cell_type": "code",
   "execution_count": 51,
   "metadata": {},
   "outputs": [
    {
     "data": {
      "text/plain": [
       "Unnamed: 0                        5\n",
       "Unnamed: 0.1                      5\n",
       "trial                             0\n",
       "time                       0.238889\n",
       "y_attacker                     -5.5\n",
       "x_attacker                   -13.75\n",
       "y_end_attacker                 -5.5\n",
       "x_target                          0\n",
       "y_target                 -0.0352506\n",
       "goal_mean                         0\n",
       "goal_upper                        4\n",
       "goal_lower                       -4\n",
       "p_in                      0.0337062\n",
       "goal_upper_expand           2.37157\n",
       "goal_lower_expand          -1.81814\n",
       "decision_expand      correct_reject\n",
       "d_prime_expand                    0\n",
       "p_in_diff                         0\n",
       "Name: 5, dtype: object"
      ]
     },
     "execution_count": 51,
     "metadata": {},
     "output_type": "execute_result"
    }
   ],
   "source": [
    "# Estimating maximum likelihood functions\n",
    "# October 2020, Clara Kuper\n",
    "\n",
    "# This script estimates the paramters of a custom drift diffusion process at different levels of complexity\n",
    "\n",
    "import numpy as np\n",
    "import matplotlib.pyplot as plt\n",
    "import pandas as pd\n",
    "from scipy import stats\n",
    "from scipy.stats import uniform\n",
    "import ipywidgets as widgets\n",
    "from IPython.display import display\n",
    "import my_funcs\n",
    "\n",
    "import sys\n",
    "\n",
    "if not sys.warnoptions:\n",
    "    import warnings\n",
    "    warnings.simplefilter(\"ignore\")\n",
    "\n",
    "# Load the data into the notebook\n",
    "df = pd.read_csv('sim_full.csv')\n",
    "df"
   ]
  },
  {
   "cell_type": "code",
   "execution_count": 58,
   "metadata": {},
   "outputs": [
    {
     "name": "stdout",
     "output_type": "stream",
     "text": [
      "0 values have been deleted\n",
      "0.5425767239131737 was the mean reaction time\n"
     ]
    },
    {
     "data": {
      "image/png": "[encoded data removed]",
      "text/plain": [
       "<Figure size 432x288 with 1 Axes>"
      ]
     },
     "metadata": {
      "needs_background": "light"
     },
     "output_type": "display_data"
    }
   ],
   "source": [
    "# define parameters\n",
    "\n",
    "n_trial = 500\n",
    "noise_level = [0, 25.00]\n",
    "trial_to_fit = 7\n",
    "thresh_dec = 200\n",
    "thresh_pause = 1\n",
    "thresh_drift = 0.01\n",
    "dur_pause = 0.0\n",
    "\n",
    "idx_trial = np.where(df['trial'] == trial_to_fit)[0]\n",
    "trial_data = df.iloc[idx_trial]\n",
    "\n",
    "RTs, go = my_funcs.get_rt_noise(n_trial, noise_level, trial_data,thresh_dec,thresh_pause,thresh_drift,dur_pause)\n",
    "    \n",
    "inf_vals = np.where(RTs == float('inf'))\n",
    "print('{} values have been deleted'.format(len(inf_vals[0])))\n",
    "print('{} was the mean reaction time'.format(np.mean(RTs)))\n",
    "\n",
    "RTs = np.delete(RTs,inf_vals)\n",
    "plt.hist(RTs, range = (0,3), bins = 30);"
   ]
  },
  {
   "cell_type": "code",
   "execution_count": 59,
   "metadata": {},
   "outputs": [
    {
     "name": "stdout",
     "output_type": "stream",
     "text": [
      "     Unnamed: 0  Unnamed: 0.1  trial      time  y_attacker  x_attacker  \\\n",
      "112         112             0    7.0  0.008333         5.5      -20.00   \n",
      "113         113             1    7.0  0.054444         5.5      -18.75   \n",
      "114         114             2    7.0  0.100556         5.5      -17.50   \n",
      "115         115             3    7.0  0.146667         5.5      -16.25   \n",
      "116         116             4    7.0  0.192778         5.5      -15.00   \n",
      "117         117             5    7.0  0.238889         5.5      -13.75   \n",
      "118         118             6    7.0  0.285000         5.5      -12.50   \n",
      "119         119             7    7.0  0.331111         5.5      -11.25   \n",
      "120         120             8    7.0  0.377222         5.5      -10.00   \n",
      "121         121             9    7.0  0.423333         5.5       -8.75   \n",
      "122         122            10    7.0  0.469444         5.5       -7.50   \n",
      "123         123            11    7.0  0.515556         5.5       -6.25   \n",
      "124         124            12    7.0  0.561667         5.5       -5.00   \n",
      "125         125            13    7.0  0.607778         5.5       -3.75   \n",
      "126         126            14    7.0  0.653889         5.5       -2.50   \n",
      "127         127            15    7.0  0.700000         5.5       -1.25   \n",
      "\n",
      "     y_end_attacker  x_target  y_target  goal_mean  goal_upper  goal_lower  \\\n",
      "112             5.5       0.0 -2.422515        0.0         4.0        -4.0   \n",
      "113             5.5       0.0 -0.050375        0.0         4.0        -4.0   \n",
      "114             5.5       0.0  2.879825        0.0         4.0        -4.0   \n",
      "115             5.5       0.0 -2.392446        0.0         4.0        -4.0   \n",
      "116             5.5       0.0  0.740209        0.0         4.0        -4.0   \n",
      "117             5.5       0.0 -2.738427        0.0         4.0        -4.0   \n",
      "118             5.5       0.0 -1.879545        0.0         4.0        -4.0   \n",
      "119             5.5       0.0  0.364725        0.0         4.0        -4.0   \n",
      "120             5.5       0.0 -1.796655        0.0         4.0        -4.0   \n",
      "121             5.5       0.0  0.379486        0.0         4.0        -4.0   \n",
      "122             5.5       0.0  1.471901        0.0         4.0        -4.0   \n",
      "123             5.5       0.0  0.019622        0.0         4.0        -4.0   \n",
      "124             5.5       0.0  0.155744        0.0         4.0        -4.0   \n",
      "125             5.5       0.0 -3.541534        0.0         4.0        -4.0   \n",
      "126             5.5       0.0 -3.212392        0.0         4.0        -4.0   \n",
      "127             5.5       0.0 -3.375310        0.0         4.0        -4.0   \n",
      "\n",
      "         p_in  goal_upper_expand  goal_lower_expand decision_expand  \\\n",
      "112  0.009686          -2.422515          -2.422515  correct_reject   \n",
      "113  0.013768          -0.050375          -2.422515  correct_reject   \n",
      "114  0.028723           2.879825          -2.422515  correct_reject   \n",
      "115  0.028723           2.879825          -2.422515  correct_reject   \n",
      "116  0.028723           2.879825          -2.422515  correct_reject   \n",
      "117  0.000000           2.879825          -2.738427  correct_reject   \n",
      "118  0.000000           2.879825          -2.738427  correct_reject   \n",
      "119  0.000000           2.879825          -2.738427  correct_reject   \n",
      "120  0.000000           2.879825          -2.738427  correct_reject   \n",
      "121  0.000000           2.879825          -2.738427  correct_reject   \n",
      "122  0.000000           2.879825          -2.738427  correct_reject   \n",
      "123  0.000000           2.879825          -2.738427  correct_reject   \n",
      "124  0.000000           2.879825          -2.738427  correct_reject   \n",
      "125  0.000000           2.879825          -3.541534  correct_reject   \n",
      "126  0.000000           2.879825          -3.541534  correct_reject   \n",
      "127  0.000000           2.879825          -3.541534  correct_reject   \n",
      "\n",
      "     d_prime_expand  p_in_diff  \n",
      "112             0.0   0.009686  \n",
      "113             0.0   0.004083  \n",
      "114             0.0   0.014955  \n",
      "115             0.0   0.000000  \n",
      "116             0.0   0.000000  \n",
      "117             0.0   0.028723  \n",
      "118             0.0   0.000000  \n",
      "119             0.0   0.000000  \n",
      "120             0.0   0.000000  \n",
      "121             0.0   0.000000  \n",
      "122             0.0   0.000000  \n",
      "123             0.0   0.000000  \n",
      "124             0.0   0.000000  \n",
      "125             0.0   0.000000  \n",
      "126             0.0   0.000000  \n",
      "127             0.0   0.000000  \n"
     ]
    }
   ],
   "source": [
    "print(trial_data)"
   ]
  },
  {
   "cell_type": "code",
   "execution_count": 55,
   "metadata": {},
   "outputs": [
    {
     "data": {
      "text/plain": [
       "0.3166332665330661"
      ]
     },
     "execution_count": 55,
     "metadata": {},
     "output_type": "execute_result"
    }
   ],
   "source": [
    "np.mean(go)"
   ]
  },
  {
   "cell_type": "code",
   "execution_count": null,
   "metadata": {},
   "outputs": [],
   "source": []
  },
  {
   "cell_type": "code",
   "execution_count": null,
   "metadata": {},
   "outputs": [],
   "source": []
  },
  {
   "cell_type": "code",
   "execution_count": null,
   "metadata": {},
   "outputs": [],
   "source": []
  }
 ],
 "metadata": {
  "kernelspec": {
   "display_name": "Python 3",
   "language": "python",
   "name": "python3"
  },
  "language_info": {
   "codemirror_mode": {
    "name": "ipython",
    "version": 3
   },
   "file_extension": ".py",
   "mimetype": "text/x-python",
   "name": "python",
   "nbconvert_exporter": "python",
   "pygments_lexer": "ipython3",
   "version": "3.7.6"
  }
 },
 "nbformat": 4,
 "nbformat_minor": 4
}

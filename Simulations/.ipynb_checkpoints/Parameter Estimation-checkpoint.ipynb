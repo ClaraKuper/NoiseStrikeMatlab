{
 "cells": [
  {
   "cell_type": "code",
   "execution_count": 12,
   "metadata": {},
   "outputs": [
    {
     "ename": "ImportError",
     "evalue": "cannot import name 'get_rt_noise' from 'my_funcs' (C:\\Users\\ClaraQ\\Documents\\Projects\\2020_NoiseStrikeMatlab\\Simulations\\my_funcs.py)",
     "output_type": "error",
     "traceback": [
      "\u001b[1;31m---------------------------------------------------------------------------\u001b[0m",
      "\u001b[1;31mImportError\u001b[0m                               Traceback (most recent call last)",
      "\u001b[1;32m<ipython-input-12-d40e70bcc9d4>\u001b[0m in \u001b[0;36m<module>\u001b[1;34m\u001b[0m\n\u001b[0;32m     11\u001b[0m \u001b[1;32mimport\u001b[0m \u001b[0mipywidgets\u001b[0m \u001b[1;32mas\u001b[0m \u001b[0mwidgets\u001b[0m\u001b[1;33m\u001b[0m\u001b[1;33m\u001b[0m\u001b[0m\n\u001b[0;32m     12\u001b[0m \u001b[1;32mfrom\u001b[0m \u001b[0mIPython\u001b[0m\u001b[1;33m.\u001b[0m\u001b[0mdisplay\u001b[0m \u001b[1;32mimport\u001b[0m \u001b[0mdisplay\u001b[0m\u001b[1;33m\u001b[0m\u001b[1;33m\u001b[0m\u001b[0m\n\u001b[1;32m---> 13\u001b[1;33m \u001b[1;32mfrom\u001b[0m \u001b[0mmy_funcs\u001b[0m \u001b[1;32mimport\u001b[0m \u001b[0mget_rt_noise\u001b[0m\u001b[1;33m\u001b[0m\u001b[1;33m\u001b[0m\u001b[0m\n\u001b[0m\u001b[0;32m     14\u001b[0m \u001b[1;33m\u001b[0m\u001b[0m\n\u001b[0;32m     15\u001b[0m \u001b[1;32mimport\u001b[0m \u001b[0msys\u001b[0m\u001b[1;33m\u001b[0m\u001b[1;33m\u001b[0m\u001b[0m\n",
      "\u001b[1;31mImportError\u001b[0m: cannot import name 'get_rt_noise' from 'my_funcs' (C:\\Users\\ClaraQ\\Documents\\Projects\\2020_NoiseStrikeMatlab\\Simulations\\my_funcs.py)"
     ]
    }
   ],
   "source": [
    "# Estimating maximum likelihood functions\n",
    "# October 2020, Clara Kuper\n",
    "\n",
    "# This script estimates the paramters of a custom drift diffusion process at different levels of complexity\n",
    "\n",
    "import numpy as np\n",
    "import matplotlib.pyplot as plt\n",
    "import pandas as pd\n",
    "from scipy import stats\n",
    "from scipy.stats import uniform\n",
    "import ipywidgets as widgets\n",
    "from IPython.display import display\n",
    "import my_funcs\n",
    "\n",
    "import sys\n",
    "\n",
    "if not sys.warnoptions:\n",
    "    import warnings\n",
    "    warnings.simplefilter(\"ignore\")\n",
    "\n",
    "# Load the data into the notebook\n",
    "df = pd.read_csv('sim1000.csv')\n",
    "df"
   ]
  },
  {
   "cell_type": "code",
   "execution_count": 10,
   "metadata": {},
   "outputs": [
    {
     "ename": "AttributeError",
     "evalue": "module 'my_funcs' has no attribute 'get_rt_noise'",
     "output_type": "error",
     "traceback": [
      "\u001b[1;31m---------------------------------------------------------------------------\u001b[0m",
      "\u001b[1;31mAttributeError\u001b[0m                            Traceback (most recent call last)",
      "\u001b[1;32m<ipython-input-10-cbb05dfb6428>\u001b[0m in \u001b[0;36m<module>\u001b[1;34m\u001b[0m\n\u001b[0;32m     12\u001b[0m \u001b[0mtrial_data\u001b[0m \u001b[1;33m=\u001b[0m \u001b[0mdf\u001b[0m\u001b[1;33m.\u001b[0m\u001b[0miloc\u001b[0m\u001b[1;33m[\u001b[0m\u001b[0midx_trial\u001b[0m\u001b[1;33m]\u001b[0m\u001b[1;33m\u001b[0m\u001b[1;33m\u001b[0m\u001b[0m\n\u001b[0;32m     13\u001b[0m \u001b[1;33m\u001b[0m\u001b[0m\n\u001b[1;32m---> 14\u001b[1;33m \u001b[0mRTs\u001b[0m\u001b[1;33m,\u001b[0m \u001b[0mgo\u001b[0m \u001b[1;33m=\u001b[0m \u001b[0mmy_funcs\u001b[0m\u001b[1;33m.\u001b[0m\u001b[0mget_rt_noise\u001b[0m\u001b[1;33m(\u001b[0m\u001b[0mn_trial\u001b[0m\u001b[1;33m,\u001b[0m \u001b[0mnoise_level\u001b[0m\u001b[1;33m,\u001b[0m \u001b[0mtrial_data\u001b[0m\u001b[1;33m,\u001b[0m\u001b[0mthresh_dec\u001b[0m\u001b[1;33m,\u001b[0m\u001b[0mthresh_pause\u001b[0m\u001b[1;33m,\u001b[0m\u001b[0mthresh_drift\u001b[0m\u001b[1;33m,\u001b[0m\u001b[0mdur_pause\u001b[0m\u001b[1;33m)\u001b[0m\u001b[1;33m\u001b[0m\u001b[1;33m\u001b[0m\u001b[0m\n\u001b[0m\u001b[0;32m     15\u001b[0m \u001b[1;33m\u001b[0m\u001b[0m\n\u001b[0;32m     16\u001b[0m \u001b[0minf_vals\u001b[0m \u001b[1;33m=\u001b[0m \u001b[0mnp\u001b[0m\u001b[1;33m.\u001b[0m\u001b[0mwhere\u001b[0m\u001b[1;33m(\u001b[0m\u001b[0mRTs\u001b[0m \u001b[1;33m==\u001b[0m \u001b[0mfloat\u001b[0m\u001b[1;33m(\u001b[0m\u001b[1;34m'inf'\u001b[0m\u001b[1;33m)\u001b[0m\u001b[1;33m)\u001b[0m\u001b[1;33m\u001b[0m\u001b[1;33m\u001b[0m\u001b[0m\n",
      "\u001b[1;31mAttributeError\u001b[0m: module 'my_funcs' has no attribute 'get_rt_noise'"
     ]
    }
   ],
   "source": [
    "# define parameters\n",
    "\n",
    "n_trial = 500\n",
    "noise_level = 25.00\n",
    "trial_to_fit = 10 \n",
    "thresh_dec = 50\n",
    "thresh_pause = 1000\n",
    "thresh_drift = 1000\n",
    "dur_pause = 0\n",
    "\n",
    "idx_trial = np.where(df['trial'] == trial_to_fit)[0]\n",
    "trial_data = df.iloc[idx_trial]\n",
    "\n",
    "RTs, go = my_funcs.get_rt_noise(n_trial, noise_level, trial_data,thresh_dec,thresh_pause,thresh_drift,dur_pause)\n",
    "    \n",
    "inf_vals = np.where(RTs == float('inf'))\n",
    "\n",
    "RTs = np.delete(RTs,inf_vals)\n",
    "plt.hist(RTs, range = (0,3), bins = 30);"
   ]
  },
  {
   "cell_type": "code",
   "execution_count": null,
   "metadata": {},
   "outputs": [],
   "source": []
  },
  {
   "cell_type": "code",
   "execution_count": null,
   "metadata": {},
   "outputs": [],
   "source": []
  },
  {
   "cell_type": "code",
   "execution_count": null,
   "metadata": {},
   "outputs": [],
   "source": []
  },
  {
   "cell_type": "code",
   "execution_count": null,
   "metadata": {},
   "outputs": [],
   "source": []
  },
  {
   "cell_type": "code",
   "execution_count": null,
   "metadata": {},
   "outputs": [],
   "source": []
  }
 ],
 "metadata": {
  "kernelspec": {
   "display_name": "Python 3",
   "language": "python",
   "name": "python3"
  },
  "language_info": {
   "codemirror_mode": {
    "name": "ipython",
    "version": 3
   },
   "file_extension": ".py",
   "mimetype": "text/x-python",
   "name": "python",
   "nbconvert_exporter": "python",
   "pygments_lexer": "ipython3",
   "version": "3.7.6"
  }
 },
 "nbformat": 4,
 "nbformat_minor": 4
}

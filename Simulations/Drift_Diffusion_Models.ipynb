{
 "cells": [
  {
   "cell_type": "code",
   "execution_count": 38,
   "metadata": {},
   "outputs": [
    {
     "data": {
      "text/html": [
       "<div>\n",
       "<style scoped>\n",
       "    .dataframe tbody tr th:only-of-type {\n",
       "        vertical-align: middle;\n",
       "    }\n",
       "\n",
       "    .dataframe tbody tr th {\n",
       "        vertical-align: top;\n",
       "    }\n",
       "\n",
       "    .dataframe thead th {\n",
       "        text-align: right;\n",
       "    }\n",
       "</style>\n",
       "<table border=\"1\" class=\"dataframe\">\n",
       "  <thead>\n",
       "    <tr style=\"text-align: right;\">\n",
       "      <th></th>\n",
       "      <th>Unnamed: 0</th>\n",
       "      <th>trial</th>\n",
       "      <th>time</th>\n",
       "      <th>y_attacker</th>\n",
       "      <th>x_attacker</th>\n",
       "      <th>y_end_attacker</th>\n",
       "      <th>x_target</th>\n",
       "      <th>y_target</th>\n",
       "      <th>goal_mean</th>\n",
       "      <th>goal_upper</th>\n",
       "      <th>goal_lower</th>\n",
       "      <th>p_in</th>\n",
       "      <th>goal_upper_expand</th>\n",
       "      <th>goal_lower_expand</th>\n",
       "      <th>decision_expand</th>\n",
       "      <th>d_prime_expand</th>\n",
       "    </tr>\n",
       "  </thead>\n",
       "  <tbody>\n",
       "    <tr>\n",
       "      <th>0</th>\n",
       "      <td>0</td>\n",
       "      <td>0.0</td>\n",
       "      <td>0.008333</td>\n",
       "      <td>-5.5</td>\n",
       "      <td>-20.00</td>\n",
       "      <td>-5.5</td>\n",
       "      <td>0.0</td>\n",
       "      <td>1.731510</td>\n",
       "      <td>0.0</td>\n",
       "      <td>4.0</td>\n",
       "      <td>-4.0</td>\n",
       "      <td>0.095874</td>\n",
       "      <td>1.731510</td>\n",
       "      <td>1.731510</td>\n",
       "      <td>correct_reject</td>\n",
       "      <td>0.0</td>\n",
       "    </tr>\n",
       "    <tr>\n",
       "      <th>1</th>\n",
       "      <td>1</td>\n",
       "      <td>0.0</td>\n",
       "      <td>0.054444</td>\n",
       "      <td>-5.5</td>\n",
       "      <td>-18.75</td>\n",
       "      <td>-5.5</td>\n",
       "      <td>0.0</td>\n",
       "      <td>-1.818140</td>\n",
       "      <td>0.0</td>\n",
       "      <td>4.0</td>\n",
       "      <td>-4.0</td>\n",
       "      <td>0.172343</td>\n",
       "      <td>1.731510</td>\n",
       "      <td>-1.818140</td>\n",
       "      <td>correct_reject</td>\n",
       "      <td>0.0</td>\n",
       "    </tr>\n",
       "    <tr>\n",
       "      <th>2</th>\n",
       "      <td>2</td>\n",
       "      <td>0.0</td>\n",
       "      <td>0.100556</td>\n",
       "      <td>-5.5</td>\n",
       "      <td>-17.50</td>\n",
       "      <td>-5.5</td>\n",
       "      <td>0.0</td>\n",
       "      <td>2.226061</td>\n",
       "      <td>0.0</td>\n",
       "      <td>4.0</td>\n",
       "      <td>-4.0</td>\n",
       "      <td>0.068870</td>\n",
       "      <td>2.226061</td>\n",
       "      <td>-1.818140</td>\n",
       "      <td>correct_reject</td>\n",
       "      <td>0.0</td>\n",
       "    </tr>\n",
       "    <tr>\n",
       "      <th>3</th>\n",
       "      <td>3</td>\n",
       "      <td>0.0</td>\n",
       "      <td>0.146667</td>\n",
       "      <td>-5.5</td>\n",
       "      <td>-16.25</td>\n",
       "      <td>-5.5</td>\n",
       "      <td>0.0</td>\n",
       "      <td>2.371570</td>\n",
       "      <td>0.0</td>\n",
       "      <td>4.0</td>\n",
       "      <td>-4.0</td>\n",
       "      <td>0.033312</td>\n",
       "      <td>2.371570</td>\n",
       "      <td>-1.818140</td>\n",
       "      <td>correct_reject</td>\n",
       "      <td>0.0</td>\n",
       "    </tr>\n",
       "    <tr>\n",
       "      <th>4</th>\n",
       "      <td>4</td>\n",
       "      <td>0.0</td>\n",
       "      <td>0.192778</td>\n",
       "      <td>-5.5</td>\n",
       "      <td>-15.00</td>\n",
       "      <td>-5.5</td>\n",
       "      <td>0.0</td>\n",
       "      <td>0.740505</td>\n",
       "      <td>0.0</td>\n",
       "      <td>4.0</td>\n",
       "      <td>-4.0</td>\n",
       "      <td>0.033312</td>\n",
       "      <td>2.371570</td>\n",
       "      <td>-1.818140</td>\n",
       "      <td>correct_reject</td>\n",
       "      <td>0.0</td>\n",
       "    </tr>\n",
       "    <tr>\n",
       "      <th>...</th>\n",
       "      <td>...</td>\n",
       "      <td>...</td>\n",
       "      <td>...</td>\n",
       "      <td>...</td>\n",
       "      <td>...</td>\n",
       "      <td>...</td>\n",
       "      <td>...</td>\n",
       "      <td>...</td>\n",
       "      <td>...</td>\n",
       "      <td>...</td>\n",
       "      <td>...</td>\n",
       "      <td>...</td>\n",
       "      <td>...</td>\n",
       "      <td>...</td>\n",
       "      <td>...</td>\n",
       "      <td>...</td>\n",
       "    </tr>\n",
       "    <tr>\n",
       "      <th>15995</th>\n",
       "      <td>11</td>\n",
       "      <td>999.0</td>\n",
       "      <td>0.515556</td>\n",
       "      <td>5.5</td>\n",
       "      <td>-6.25</td>\n",
       "      <td>5.5</td>\n",
       "      <td>0.0</td>\n",
       "      <td>1.295679</td>\n",
       "      <td>0.0</td>\n",
       "      <td>4.0</td>\n",
       "      <td>-4.0</td>\n",
       "      <td>0.000000</td>\n",
       "      <td>3.884249</td>\n",
       "      <td>-3.327805</td>\n",
       "      <td>correct_reject</td>\n",
       "      <td>0.0</td>\n",
       "    </tr>\n",
       "    <tr>\n",
       "      <th>15996</th>\n",
       "      <td>12</td>\n",
       "      <td>999.0</td>\n",
       "      <td>0.561667</td>\n",
       "      <td>5.5</td>\n",
       "      <td>-5.00</td>\n",
       "      <td>5.5</td>\n",
       "      <td>0.0</td>\n",
       "      <td>-1.010079</td>\n",
       "      <td>0.0</td>\n",
       "      <td>4.0</td>\n",
       "      <td>-4.0</td>\n",
       "      <td>0.000000</td>\n",
       "      <td>3.884249</td>\n",
       "      <td>-3.327805</td>\n",
       "      <td>correct_reject</td>\n",
       "      <td>0.0</td>\n",
       "    </tr>\n",
       "    <tr>\n",
       "      <th>15997</th>\n",
       "      <td>13</td>\n",
       "      <td>999.0</td>\n",
       "      <td>0.607778</td>\n",
       "      <td>5.5</td>\n",
       "      <td>-3.75</td>\n",
       "      <td>5.5</td>\n",
       "      <td>0.0</td>\n",
       "      <td>2.134271</td>\n",
       "      <td>0.0</td>\n",
       "      <td>4.0</td>\n",
       "      <td>-4.0</td>\n",
       "      <td>0.000000</td>\n",
       "      <td>3.884249</td>\n",
       "      <td>-3.327805</td>\n",
       "      <td>correct_reject</td>\n",
       "      <td>0.0</td>\n",
       "    </tr>\n",
       "    <tr>\n",
       "      <th>15998</th>\n",
       "      <td>14</td>\n",
       "      <td>999.0</td>\n",
       "      <td>0.653889</td>\n",
       "      <td>5.5</td>\n",
       "      <td>-2.50</td>\n",
       "      <td>5.5</td>\n",
       "      <td>0.0</td>\n",
       "      <td>-2.166901</td>\n",
       "      <td>0.0</td>\n",
       "      <td>4.0</td>\n",
       "      <td>-4.0</td>\n",
       "      <td>0.000000</td>\n",
       "      <td>3.884249</td>\n",
       "      <td>-3.327805</td>\n",
       "      <td>correct_reject</td>\n",
       "      <td>0.0</td>\n",
       "    </tr>\n",
       "    <tr>\n",
       "      <th>15999</th>\n",
       "      <td>15</td>\n",
       "      <td>999.0</td>\n",
       "      <td>0.700000</td>\n",
       "      <td>5.5</td>\n",
       "      <td>-1.25</td>\n",
       "      <td>5.5</td>\n",
       "      <td>0.0</td>\n",
       "      <td>2.805240</td>\n",
       "      <td>0.0</td>\n",
       "      <td>4.0</td>\n",
       "      <td>-4.0</td>\n",
       "      <td>0.000000</td>\n",
       "      <td>3.884249</td>\n",
       "      <td>-3.327805</td>\n",
       "      <td>correct_reject</td>\n",
       "      <td>0.0</td>\n",
       "    </tr>\n",
       "  </tbody>\n",
       "</table>\n",
       "<p>16000 rows × 16 columns</p>\n",
       "</div>"
      ],
      "text/plain": [
       "       Unnamed: 0  trial      time  y_attacker  x_attacker  y_end_attacker  \\\n",
       "0               0    0.0  0.008333        -5.5      -20.00            -5.5   \n",
       "1               1    0.0  0.054444        -5.5      -18.75            -5.5   \n",
       "2               2    0.0  0.100556        -5.5      -17.50            -5.5   \n",
       "3               3    0.0  0.146667        -5.5      -16.25            -5.5   \n",
       "4               4    0.0  0.192778        -5.5      -15.00            -5.5   \n",
       "...           ...    ...       ...         ...         ...             ...   \n",
       "15995          11  999.0  0.515556         5.5       -6.25             5.5   \n",
       "15996          12  999.0  0.561667         5.5       -5.00             5.5   \n",
       "15997          13  999.0  0.607778         5.5       -3.75             5.5   \n",
       "15998          14  999.0  0.653889         5.5       -2.50             5.5   \n",
       "15999          15  999.0  0.700000         5.5       -1.25             5.5   \n",
       "\n",
       "       x_target  y_target  goal_mean  goal_upper  goal_lower      p_in  \\\n",
       "0           0.0  1.731510        0.0         4.0        -4.0  0.095874   \n",
       "1           0.0 -1.818140        0.0         4.0        -4.0  0.172343   \n",
       "2           0.0  2.226061        0.0         4.0        -4.0  0.068870   \n",
       "3           0.0  2.371570        0.0         4.0        -4.0  0.033312   \n",
       "4           0.0  0.740505        0.0         4.0        -4.0  0.033312   \n",
       "...         ...       ...        ...         ...         ...       ...   \n",
       "15995       0.0  1.295679        0.0         4.0        -4.0  0.000000   \n",
       "15996       0.0 -1.010079        0.0         4.0        -4.0  0.000000   \n",
       "15997       0.0  2.134271        0.0         4.0        -4.0  0.000000   \n",
       "15998       0.0 -2.166901        0.0         4.0        -4.0  0.000000   \n",
       "15999       0.0  2.805240        0.0         4.0        -4.0  0.000000   \n",
       "\n",
       "       goal_upper_expand  goal_lower_expand decision_expand  d_prime_expand  \n",
       "0               1.731510           1.731510  correct_reject             0.0  \n",
       "1               1.731510          -1.818140  correct_reject             0.0  \n",
       "2               2.226061          -1.818140  correct_reject             0.0  \n",
       "3               2.371570          -1.818140  correct_reject             0.0  \n",
       "4               2.371570          -1.818140  correct_reject             0.0  \n",
       "...                  ...                ...             ...             ...  \n",
       "15995           3.884249          -3.327805  correct_reject             0.0  \n",
       "15996           3.884249          -3.327805  correct_reject             0.0  \n",
       "15997           3.884249          -3.327805  correct_reject             0.0  \n",
       "15998           3.884249          -3.327805  correct_reject             0.0  \n",
       "15999           3.884249          -3.327805  correct_reject             0.0  \n",
       "\n",
       "[16000 rows x 16 columns]"
      ]
     },
     "execution_count": 38,
     "metadata": {},
     "output_type": "execute_result"
    }
   ],
   "source": [
    "# Drift diffusion model \n",
    "# August 2020, Clara Kuper\n",
    "\n",
    "# This script implements noise free drift diffusion models that simulate the selection of action plans.\n",
    "# Three different models will be implemented\n",
    "\n",
    "# 1. The drift rate of a decision is set when 75% certainty about the distribution are reached, then, the action is executed\n",
    "# 2. The drift rate is initiated at the first step, and changed with every new incoming information\n",
    "# 3. The drift rate is initiated at the first step, but changed only when the new incoming information requires a different decision (change of mind)\n",
    "\n",
    "\n",
    "import numpy as np\n",
    "import matplotlib.pyplot as plt\n",
    "import pandas as pd\n",
    "from scipy import stats\n",
    "from scipy.stats import uniform\n",
    "\n",
    "df = pd.read_csv('sim1000.csv')\n",
    "df"
   ]
  },
  {
   "cell_type": "code",
   "execution_count": 2,
   "metadata": {},
   "outputs": [],
   "source": [
    "# General stuff\n",
    "\n",
    "boundary = 100\n",
    "offset = 0\n",
    "\n",
    "time_m1 = np.linspace(0,0.7,16) #this can be the same time vector as in the experiment (aligned to new info)\n",
    "time_thresh = 0.4\n",
    "dec_thresh = 0.25\n",
    "\n",
    "# translation factor between p_in and drift rate.\n",
    "# the translation factor ensures that when p_in is below 0.5 the decision boundary is not reached after 400 ms\n",
    "# when p_in is above 0.5, the decision boundary is reached in 400 ms, else it stays below\n",
    "# thus: scale_factor * 0.5 * 0.4 = boundary\n",
    "# scale_factor = 100/(0.5 * 0.4)\n",
    "scale_factor =  boundary/(dec_thresh * time_thresh)\n",
    "\n",
    "# reshape evidence to include negative values\n",
    "df['p_in'] = df['p_in']-0.5\n"
   ]
  },
  {
   "cell_type": "code",
   "execution_count": 3,
   "metadata": {},
   "outputs": [],
   "source": [
    "# d' ratings of the mean, collapsing and expanding strategies\n",
    "# compute d' curve time - d_prime\n",
    "# evaluate which strategy performs best at which time, and if there is a difference at all\n",
    "\n",
    "# how to compute d' \n",
    "def get_d_prime(hit, miss, fa, cr):\n",
    "    \n",
    "    # there must be at least one instance of each response type\n",
    "    if hit == 0:\n",
    "        hit = 1\n",
    "    if miss == 0:\n",
    "        miss = 1\n",
    "    \n",
    "    if fa == 0:\n",
    "        fa = 1\n",
    "    if cr == 0:\n",
    "        cr =1\n",
    "    \n",
    "    # compute rates\n",
    "    hit_rate = hit/(hit+miss)\n",
    "    fa_rate = fa/(fa+cr)\n",
    "        \n",
    "    return stats.norm.ppf(hit_rate)- stats.norm.ppf(fa_rate)"
   ]
  },
  {
   "cell_type": "code",
   "execution_count": 4,
   "metadata": {},
   "outputs": [],
   "source": [
    "def get_response_type(data, t_cross):\n",
    "    if abs(data[\"y_attacker\"].iloc[-1])<4:\n",
    "        attacker = 'hit'\n",
    "    else:\n",
    "        attacker = 'miss'\n",
    "\n",
    "    if 0.4 > t_cross and t_cross > 0:\n",
    "        response = 'go'\n",
    "    else: \n",
    "        response = 'nogo'\n",
    "\n",
    "    if attacker == 'hit': \n",
    "        if response == 'go':\n",
    "            trial_class ='hit'\n",
    "        else:\n",
    "            trial_class = 'miss'\n",
    "    else:\n",
    "        if response == 'go':\n",
    "            trial_class = 'fa'\n",
    "        else:\n",
    "            trial_class = 'cr'\n",
    "    return trial_class"
   ]
  },
  {
   "cell_type": "code",
   "execution_count": 5,
   "metadata": {},
   "outputs": [],
   "source": [
    "# Model one: when certainty x is reached, the response is initiated, or when the time expires\n",
    "# params to be fitted: scale_factor/threshold for decision, offset, evidence_thresh\n",
    "\n",
    "evidence_thresh = 0.3\n",
    "\n",
    "params_m1 = {'boundary':boundary, 'offset':offset, 'time':time_m1, 'scale_factor':scale_factor, 'evidence_thresh':evidence_thresh}\n",
    "\n",
    "def simulate_m1(params,data):\n",
    "    \n",
    "        \"\"\"\n",
    "        Simulates go/no-go decisions based on the data presented in \"data\"\n",
    "        input: \n",
    "        params: boundary, offset, time (time needs to have the same dt as the information update stream), dec_thresh, scale_factor \n",
    "        data\n",
    "        \n",
    "        output:\n",
    "        table (n_trials x time): value of drift over time\n",
    "        rea_correct: table with reaction times and decisions\n",
    "        \"\"\"\n",
    "        # how many trials?\n",
    "        trials = np.unique(data['trial'])\n",
    "        # how many time steps do we look at?\n",
    "        N_time = len(params['time'])\n",
    "        # the difference between two time steps\n",
    "        dt = np.unique(np.diff(data['time']))[-1]\n",
    "        \n",
    "        # set the output tables\n",
    "        out_table = np.zeros((len(trials),N_time))\n",
    "        rea_correct = np.zeros((len(trials),2))\n",
    "        rea_correct = pd.DataFrame(rea_correct)\n",
    "        \n",
    "        # set the basic parameters:\n",
    "        boundary = params['boundary']\n",
    "        scale_factor = params['scale_factor']\n",
    "        out_table[:,0] = params['offset']\n",
    "        \n",
    "        for trial in trials:\n",
    "            # here, we compute the drift behaviour\n",
    "            # find all relevant trials\n",
    "            trial_data = data.iloc[np.where(data['trial']==trial)[0]]\n",
    "            # get the points when the threshold was crossed\n",
    "            above_thresh = np.where(abs(trial_data[\"p_in\"])>params['evidence_thresh'])[0]\n",
    "            drift_indicator = np.zeros(N_time)\n",
    "            if len(above_thresh)>0:\n",
    "                # if not empty, set all drift values after that to the first value\n",
    "                drift_rate = trial_data[\"p_in\"].iloc[min(above_thresh)] * scale_factor\n",
    "                drift_indicator[min(above_thresh):] = drift_rate\n",
    "            else:\n",
    "                drift_rate = 0\n",
    "            \n",
    "            for t_id, t in enumerate(params['time'][:-1]):\n",
    "                # compute the evidence at each time\n",
    "                out_table[int(trial),t_id+1] = out_table[int(trial),t_id] + drift_indicator[t_id] * dt\n",
    "           \n",
    "            # compute the time it takes to cross the threshold value\n",
    "            try:\n",
    "                t_cross = boundary/drift_rate\n",
    "            except ZeroDivisionError:\n",
    "                t_cross = -0.01\n",
    "            rea_correct.iloc[int(trial),0] = t_cross\n",
    "            \n",
    "            # write out the response type (hit, miss, cr, fa)\n",
    "            rea_correct.iloc[int(trial),1] = get_response_type(trial_data, t_cross)\n",
    "            \n",
    "        return out_table, rea_correct\n",
    "        \n",
    "simulated_drift, rea_correct_m1 = simulate_m1(params_m1,df)       "
   ]
  },
  {
   "cell_type": "code",
   "execution_count": 6,
   "metadata": {},
   "outputs": [
    {
     "data": {
      "image/png": "[encoded data removed]",
      "text/plain": [
       "<Figure size 432x288 with 1 Axes>"
      ]
     },
     "metadata": {
      "needs_background": "light"
     },
     "output_type": "display_data"
    }
   ],
   "source": [
    "# plot drift rates\n",
    "\n",
    "fig1, axs1 = plt.subplots(1)\n",
    "for drift in range(0,20):\n",
    "    axs1.plot(time_m1, simulated_drift[drift,])"
   ]
  },
  {
   "cell_type": "code",
   "execution_count": 7,
   "metadata": {
    "scrolled": true
   },
   "outputs": [
    {
     "data": {
      "text/plain": [
       "(array([444.,   0.,   0., 416.,   0.,   0.,  84.,   0.,   0.,  56.]),\n",
       " array([0. , 0.3, 0.6, 0.9, 1.2, 1.5, 1.8, 2.1, 2.4, 2.7, 3. ]),\n",
       " <a list of 10 Patch objects>)"
      ]
     },
     "execution_count": 7,
     "metadata": {},
     "output_type": "execute_result"
    },
    {
     "data": {
      "image/png": "[encoded data removed]",
      "text/plain": [
       "<Figure size 720x216 with 2 Axes>"
      ]
     },
     "metadata": {
      "needs_background": "light"
     },
     "output_type": "display_data"
    }
   ],
   "source": [
    "# plot reaction times and response proportion\n",
    "\n",
    "fig2, axs2 = plt.subplots(1,2, figsize = (10,3))\n",
    "\n",
    "axs2[0].hist(rea_correct_m1.iloc[:,0])\n",
    "axs2[1].hist(rea_correct_m1.iloc[:,1])"
   ]
  },
  {
   "cell_type": "code",
   "execution_count": 8,
   "metadata": {},
   "outputs": [
    {
     "name": "stdout",
     "output_type": "stream",
     "text": [
      "D-prime from model 1 is 2.178059173620461.\n"
     ]
    }
   ],
   "source": [
    "hit = np.sum(rea_correct_m1.iloc[:,1]=='hit')\n",
    "miss = np.sum(rea_correct_m1.iloc[:,1]=='miss')\n",
    "fa = np.sum(rea_correct_m1.iloc[:,1]=='fa')\n",
    "cr = np.sum(rea_correct_m1.iloc[:,1]=='cr')\n",
    "d_prime_m1 = get_d_prime(hit, miss, fa, cr)\n",
    "\n",
    "print('D-prime from model 1 is {}.'.format(d_prime_m1))"
   ]
  },
  {
   "cell_type": "code",
   "execution_count": 9,
   "metadata": {},
   "outputs": [],
   "source": [
    "# Model one - one: fully naive model, the drift is initiated with the first frame\n",
    "# params to be fitted:\n",
    "\n",
    "params_m1_1 = {'boundary':boundary, 'offset':offset, 'time':time_m1, 'scale_factor':scale_factor}\n",
    "\n",
    "def simulate_m1_1(params,data):\n",
    "    \n",
    "        \"\"\"\n",
    "        Simulates go/no-go decisions based on the data presented in \"data\"\n",
    "        input: \n",
    "        params: boundary, offset, time (time needs to have the same dt as the information update stream), scale_factor \n",
    "        data\n",
    "        \n",
    "        output:\n",
    "        table (n_trials x time): value of drift over time\n",
    "        rea_correct: table with reaction times and decisions\n",
    "        \"\"\"\n",
    "        # how many trials?\n",
    "        trials = np.unique(data['trial'])\n",
    "        # how many time steps do we look at?\n",
    "        N_time = len(params['time'])\n",
    "        # the difference between two time steps\n",
    "        dt = np.unique(np.diff(data['time']))[-1]\n",
    "        \n",
    "        # set the output tables\n",
    "        out_table = np.zeros((len(trials),N_time))\n",
    "        rea_correct = np.zeros((len(trials),2))\n",
    "        rea_correct = pd.DataFrame(rea_correct)\n",
    "        \n",
    "        # set the basic parameters:\n",
    "        boundary = params['boundary']\n",
    "        scale_factor = params['scale_factor']\n",
    "        out_table[:,0] = params['offset']\n",
    "        \n",
    "        for trial in trials:\n",
    "            # here, we compute the drift behaviour\n",
    "            # find all relevant trials\n",
    "            trial_data = data.iloc[np.where(data['trial']==trial)[0]]\n",
    "            #drift_indicator = np.zeros(N_time)\n",
    "            drift_rate = trial_data[\"p_in\"].iloc[0] * scale_factor\n",
    "            \n",
    "            for t_id, t in enumerate(params['time'][:-1]):\n",
    "                # compute the evidence at each time\n",
    "                out_table[int(trial),t_id+1] = out_table[int(trial),t_id] + drift_rate * dt\n",
    "           \n",
    "            # compute the time it takes to cross the threshold value\n",
    "            try:\n",
    "                t_cross = boundary/drift_rate\n",
    "            except ZeroDivisionError:\n",
    "                t_cross = -0.01\n",
    "            rea_correct.iloc[int(trial),0] = t_cross\n",
    "            \n",
    "            # write out the response type (hit, miss, cr, fa)\n",
    "            rea_correct.iloc[int(trial),1] = get_response_type(trial_data, t_cross)\n",
    "            \n",
    "        return out_table, rea_correct\n",
    "        \n",
    "simulated_drift_m1_1, rea_correct_m1_1 = simulate_m1_1(params_m1_1,df)  "
   ]
  },
  {
   "cell_type": "code",
   "execution_count": 10,
   "metadata": {},
   "outputs": [
    {
     "data": {
      "image/png": "[encoded data removed]",
      "text/plain": [
       "<Figure size 432x288 with 1 Axes>"
      ]
     },
     "metadata": {
      "needs_background": "light"
     },
     "output_type": "display_data"
    }
   ],
   "source": [
    "# plot drift rates\n",
    "\n",
    "fig1_1, axs1_1 = plt.subplots(1)\n",
    "for drift in range(0,20):\n",
    "    axs1_1.plot(time_m1, simulated_drift_m1_1[drift,])"
   ]
  },
  {
   "cell_type": "code",
   "execution_count": 11,
   "metadata": {},
   "outputs": [
    {
     "data": {
      "text/plain": [
       "(array([439.,   0.,   0., 297.,   0.,   0., 203.,   0.,   0.,  61.]),\n",
       " array([0. , 0.3, 0.6, 0.9, 1.2, 1.5, 1.8, 2.1, 2.4, 2.7, 3. ]),\n",
       " <a list of 10 Patch objects>)"
      ]
     },
     "execution_count": 11,
     "metadata": {},
     "output_type": "execute_result"
    },
    {
     "data": {
      "image/png": "[encoded data removed]",
      "text/plain": [
       "<Figure size 720x216 with 2 Axes>"
      ]
     },
     "metadata": {
      "needs_background": "light"
     },
     "output_type": "display_data"
    }
   ],
   "source": [
    "# plot reaction times and response proportion\n",
    "\n",
    "fig2_1, axs2_1 = plt.subplots(1,2, figsize = (10,3))\n",
    "\n",
    "axs2_1[0].hist(rea_correct_m1_1.iloc[:,0])\n",
    "axs2_1[1].hist(rea_correct_m1_1.iloc[:,1])"
   ]
  },
  {
   "cell_type": "code",
   "execution_count": 12,
   "metadata": {},
   "outputs": [
    {
     "name": "stdout",
     "output_type": "stream",
     "text": [
      "D-prime from model 1_1 is 0.927200226887853.\n"
     ]
    }
   ],
   "source": [
    "hit = np.sum(rea_correct_m1_1.iloc[:,1]=='hit')\n",
    "miss = np.sum(rea_correct_m1_1.iloc[:,1]=='miss')\n",
    "fa = np.sum(rea_correct_m1_1.iloc[:,1]=='fa')\n",
    "cr = np.sum(rea_correct_m1_1.iloc[:,1]=='cr')\n",
    "d_prime_m1_1 = get_d_prime(hit, miss, fa, cr)\n",
    "\n",
    "print('D-prime from model 1_1 is {}.'.format(d_prime_m1_1))"
   ]
  },
  {
   "cell_type": "code",
   "execution_count": 13,
   "metadata": {},
   "outputs": [],
   "source": [
    "## model two: every new information changes the drift rate \n",
    "# the drift is put on hold for a brief moment when new information comes in\n",
    "# params to be fitted: mu_1, sd_1, offset, scale_factor\n",
    "\n",
    "# parameters for putting the motor plan on hold\n",
    "mu_1 = 0.02\n",
    "sd_1 = 0.005\n",
    "\n",
    "map_stim_time = 20\n",
    "stim_updates = len(np.unique(df['time']))\n",
    "\n",
    "time_m2 = np.linspace(0, 0.7, map_stim_time*stim_updates)\n",
    "params_m2 = {'boundary':boundary, 'offset':offset, 'time':time_m2, 'scale_factor':scale_factor, 'map_factor': map_stim_time, 'mu_1': mu_1, 'sd_1':sd_1}\n",
    "\n",
    "\n",
    "def simulate_m2(params, data):\n",
    "    \"\"\"\n",
    "    runs a drift diffusion process that is interupted and re-evaluated with every new bit of information\n",
    "    params:\n",
    "    \n",
    "    \"\"\"\n",
    "    \n",
    "    # unpack the parameters\n",
    "    boundary = params['boundary']\n",
    "    offset = params['offset']\n",
    "    time = params['time']\n",
    "    drift_factor = params['scale_factor']\n",
    "    map_factor = params['map_factor']\n",
    "    mu_1 = params['mu_1']\n",
    "    sd_1 = params['sd_1']\n",
    "    \n",
    "    # unpack data driven parameters\n",
    "    trials = np.unique(data['trial'])\n",
    "    trial_N = len(trials)\n",
    "    time_N = len(time)\n",
    "    \n",
    "    # define the output tables\n",
    "    drift_table = np.zeros((trial_N,time_N))\n",
    "    rea_correct = np.zeros((trial_N, 2))\n",
    "    rea_correct = pd.DataFrame(rea_correct)\n",
    "    \n",
    "    # define dt for time and stimulus updates\n",
    "    dt_time = np.unique(np.diff(time))[-1]\n",
    "    dt_stim = np.unique(np.diff(data['time']))[-1]\n",
    "    \n",
    "    # loop through trials and comupte the drift\n",
    "    for trial in trials:\n",
    "        # get only trial related data\n",
    "        trial_data = data.iloc[np.where(data['trial']==trial)[0]]\n",
    "        stim_time = trial_data['time']\n",
    "        \n",
    "        drift_vector = np.zeros(time_N)\n",
    "        # challenge: write the drift rate vector\n",
    "        drift_old = 0\n",
    "        for idx, tim in enumerate(stim_time):\n",
    "            # create a batch that matches the length of the associated update vector, add that to the vector\n",
    "            # create an empty vector to store the update values\n",
    "            mapped_vec = np.zeros(map_factor)\n",
    "            stop_race_t = np.random.normal(mu_1, sd_1)\n",
    "            stop_race_f = int(stop_race_t/dt_time)\n",
    "            # draw a resting time from a random normal distribution\n",
    "            drift = trial_data['p_in'].iloc[idx]*drift_factor\n",
    "            #if drift != drift_old:\n",
    "            mapped_vec[int(stop_race_f):] = drift\n",
    "            #else:\n",
    "            #    mapped_vec[:] = drift\n",
    "                \n",
    "            # where in the drift vector does that go?\n",
    "            idx_to_drift = idx*map_factor\n",
    "            drift_vector[idx_to_drift:idx_to_drift+map_factor] = mapped_vec\n",
    "            drift_old = drift\n",
    "        \n",
    "        # take that drift vector to compute the actual updates in the system:\n",
    "        for t, drift in enumerate(drift_vector[:-1]):\n",
    "            drift_table[int(trial),t+1] = drift_table[int(trial),t] + drift*dt_time\n",
    "            \n",
    "        # with the drift table, compute the reaction times and correct/incorrect responses\n",
    "        # crossing time is read out this time instead of computed\n",
    "        # the frame when the boundary was crossed\n",
    "        try:\n",
    "            f_cross = min(np.where(drift_table[int(trial),:]>boundary)[0])\n",
    "            t_cross = f_cross * dt_time\n",
    "        except ValueError:\n",
    "            t_cross = -0.01\n",
    "        rea_correct.iloc[int(trial),0] = t_cross\n",
    "\n",
    "        # write out the response type (hit, miss, cr, fa)\n",
    "        rea_correct.iloc[int(trial),1] = get_response_type(trial_data, t_cross)\n",
    "    return drift_table, rea_correct\n",
    "        \n",
    "drift_m2, rea_correct_m2 = simulate_m2(params_m2, df)           "
   ]
  },
  {
   "cell_type": "code",
   "execution_count": 14,
   "metadata": {},
   "outputs": [
    {
     "data": {
      "image/png": "[encoded data removed]",
      "text/plain": [
       "<Figure size 432x288 with 1 Axes>"
      ]
     },
     "metadata": {
      "needs_background": "light"
     },
     "output_type": "display_data"
    }
   ],
   "source": [
    "fig3, axs3 = plt.subplots(1)\n",
    "\n",
    "for ix in range(0,20):\n",
    "    axs3.plot(time_m2, drift_m2[ix,:])"
   ]
  },
  {
   "cell_type": "code",
   "execution_count": 15,
   "metadata": {},
   "outputs": [
    {
     "data": {
      "text/plain": [
       "(array([500.,   0.,   0.,   0.,   0., 360.,   0.,   0.,   0., 140.]),\n",
       " array([0. , 0.2, 0.4, 0.6, 0.8, 1. , 1.2, 1.4, 1.6, 1.8, 2. ]),\n",
       " <a list of 10 Patch objects>)"
      ]
     },
     "execution_count": 15,
     "metadata": {},
     "output_type": "execute_result"
    },
    {
     "data": {
      "image/png": "[encoded data removed]",
      "text/plain": [
       "<Figure size 720x216 with 2 Axes>"
      ]
     },
     "metadata": {
      "needs_background": "light"
     },
     "output_type": "display_data"
    }
   ],
   "source": [
    "# plot reaction times and response proportion\n",
    "\n",
    "fig4, axs4 = plt.subplots(1,2, figsize = (10,3))\n",
    "\n",
    "axs4[0].hist(rea_correct_m2.iloc[:,0])\n",
    "axs4[1].hist(rea_correct_m2.iloc[:,1])"
   ]
  },
  {
   "cell_type": "code",
   "execution_count": 16,
   "metadata": {},
   "outputs": [
    {
     "name": "stdout",
     "output_type": "stream",
     "text": [
      "D-prime from model 2 is 2.2959504393925547.\n"
     ]
    }
   ],
   "source": [
    "hit = np.sum(rea_correct_m2.iloc[:,1]=='hit')\n",
    "miss = np.sum(rea_correct_m2.iloc[:,1]=='miss')\n",
    "fa = np.sum(rea_correct_m2.iloc[:,1]=='fa')\n",
    "cr = np.sum(rea_correct_m2.iloc[:,1]=='cr')\n",
    "d_prime_m2 = get_d_prime(hit, miss, fa, cr)\n",
    "\n",
    "print('D-prime from model 2 is {}.'.format(d_prime_m2))"
   ]
  },
  {
   "cell_type": "code",
   "execution_count": 17,
   "metadata": {},
   "outputs": [],
   "source": [
    "def is_CoM(old_d, new_d):   \n",
    "    if not np.sign(old_d) == np.sign(new_d):\n",
    "        return True\n",
    "    elif old_d == 0:\n",
    "        return True\n",
    "    else:\n",
    "        return False \n",
    "    "
   ]
  },
  {
   "cell_type": "code",
   "execution_count": 18,
   "metadata": {},
   "outputs": [],
   "source": [
    "## model three: Decision are updated ONLY if the new evidence is strongly suggesting a different outcome\n",
    "# the drift is put on hold for a brief moment when new information comes in\n",
    "# params to be fitted: mu_1, sd_1, offset, scale_factor\n",
    "\n",
    "# parameters for putting the motor plan on hold\n",
    "mu_1 = 0.02\n",
    "sd_1 = 0.005\n",
    "\n",
    "map_stim_time = 20\n",
    "stim_updates = len(np.unique(df['time']))\n",
    "\n",
    "time_m3 = np.linspace(0, 0.7, map_stim_time*stim_updates)\n",
    "params_m3 = {'boundary':boundary, 'offset':offset, 'time':time_m3, 'scale_factor':scale_factor, 'map_factor': map_stim_time, 'mu_1': mu_1, 'sd_1':sd_1}\n",
    "\n",
    "\n",
    "def simulate_m3(params, data):\n",
    "    \"\"\"\n",
    "    runs a drift diffusion process that is interupted and re-evaluated with every new bit of information\n",
    "    params:\n",
    "    \n",
    "    \"\"\"\n",
    "    \n",
    "    # unpack the parameters\n",
    "    boundary = params['boundary']\n",
    "    offset = params['offset']\n",
    "    time = params['time']\n",
    "    drift_factor = params['scale_factor']\n",
    "    map_factor = params['map_factor']\n",
    "    mu_1 = params['mu_1']\n",
    "    sd_1 = params['sd_1']\n",
    "    \n",
    "    # unpack data driven parameters\n",
    "    trials = np.unique(data['trial'])\n",
    "    trial_N = len(trials)\n",
    "    time_N = len(time)\n",
    "    \n",
    "    # define the output tables\n",
    "    drift_table = np.zeros((trial_N,time_N))\n",
    "    rea_correct = np.zeros((trial_N, 2))\n",
    "    rea_correct = pd.DataFrame(rea_correct)\n",
    "    \n",
    "    # define dt for time and stimulus updates\n",
    "    dt_time = np.unique(np.diff(time))[-1]\n",
    "    dt_stim = np.unique(np.diff(data['time']))[-1]\n",
    "    \n",
    "    # loop through trials and comupte the drift\n",
    "    for trial in trials:\n",
    "        # get only trial related data\n",
    "        trial_data = data.iloc[np.where(data['trial']==trial)[0]]\n",
    "        stim_time = trial_data['time']\n",
    "        \n",
    "        drift_vector = np.zeros(time_N)\n",
    "        # challenge: write the drift rate vector\n",
    "        old_drift = 0\n",
    "        for idx, tim in enumerate(stim_time):\n",
    "            # create a batch that matches the length of the associated update vector, add that to the vector\n",
    "            # create an empty vector to store the update values\n",
    "            mapped_vec = np.zeros(map_factor)\n",
    "            stop_race_t = np.random.normal(mu_1, sd_1)\n",
    "            stop_race_f = int(stop_race_t/dt_time)\n",
    "            # draw a resting time from a random normal distribution\n",
    "            new_drift = trial_data['p_in'].iloc[idx]*drift_factor\n",
    "            if is_CoM(old_drift, new_drift):\n",
    "                drift = new_drift\n",
    "                mapped_vec[int(stop_race_f):] = drift\n",
    "            else:\n",
    "                mapped_vec[:] = drift\n",
    "                \n",
    "            # where in the drift vector does that go?\n",
    "            idx_to_drift = idx*map_factor\n",
    "            drift_vector[idx_to_drift:idx_to_drift+map_factor] = mapped_vec\n",
    "            old_drift = drift\n",
    "        \n",
    "        # take that drift vector to compute the actual updates in the system:\n",
    "        for t, drift in enumerate(drift_vector[:-1]):\n",
    "            drift_table[int(trial),t+1] = drift_table[int(trial),t] + drift*dt_time\n",
    "            \n",
    "        # with the drift table, compute the reaction times and correct/incorrect responses\n",
    "        # crossing time is read out this time instead of computed\n",
    "        # the frame when the boundary was crossed\n",
    "        try:\n",
    "            f_cross = min(np.where(drift_table[int(trial),:]>boundary)[0])\n",
    "            t_cross = f_cross * dt_time\n",
    "        except ValueError:\n",
    "            t_cross = -0.01\n",
    "        rea_correct.iloc[int(trial),0] = t_cross\n",
    "\n",
    "        # write out the response type (hit, miss, cr, fa)\n",
    "        rea_correct.iloc[int(trial),1] = get_response_type(trial_data, t_cross)\n",
    "    return drift_table, rea_correct\n",
    "        \n",
    "drift_m3, rea_correct_m3 = simulate_m3(params_m3, df)           "
   ]
  },
  {
   "cell_type": "code",
   "execution_count": 19,
   "metadata": {},
   "outputs": [
    {
     "data": {
      "image/png": "[encoded data removed]",
      "text/plain": [
       "<Figure size 432x288 with 1 Axes>"
      ]
     },
     "metadata": {
      "needs_background": "light"
     },
     "output_type": "display_data"
    }
   ],
   "source": [
    "fig5, axs5 = plt.subplots(1)\n",
    "\n",
    "for ix in range(0,20):\n",
    "    axs5.plot(time_m3, drift_m3[ix,:])"
   ]
  },
  {
   "cell_type": "code",
   "execution_count": 20,
   "metadata": {},
   "outputs": [
    {
     "data": {
      "text/plain": [
       "(array([489.,   0.,   0., 231.,   0.,   0., 269.,   0.,   0.,  11.]),\n",
       " array([0. , 0.3, 0.6, 0.9, 1.2, 1.5, 1.8, 2.1, 2.4, 2.7, 3. ]),\n",
       " <a list of 10 Patch objects>)"
      ]
     },
     "execution_count": 20,
     "metadata": {},
     "output_type": "execute_result"
    },
    {
     "data": {
      "image/png": "[encoded data removed]",
      "text/plain": [
       "<Figure size 720x216 with 2 Axes>"
      ]
     },
     "metadata": {
      "needs_background": "light"
     },
     "output_type": "display_data"
    }
   ],
   "source": [
    "# plot reaction times and response proportion\n",
    "\n",
    "fig6, axs6 = plt.subplots(1,2, figsize = (10,3))\n",
    "\n",
    "axs6[0].hist(rea_correct_m3.iloc[:,0])\n",
    "axs6[1].hist(rea_correct_m3.iloc[:,1])"
   ]
  },
  {
   "cell_type": "code",
   "execution_count": 21,
   "metadata": {},
   "outputs": [
    {
     "name": "stdout",
     "output_type": "stream",
     "text": [
      "D-prime from model 3 is 2.109487181075031.\n"
     ]
    }
   ],
   "source": [
    "hit = np.sum(rea_correct_m3.iloc[:,1]=='hit')\n",
    "miss = np.sum(rea_correct_m3.iloc[:,1]=='miss')\n",
    "fa = np.sum(rea_correct_m3.iloc[:,1]=='fa')\n",
    "cr = np.sum(rea_correct_m3.iloc[:,1]=='cr')\n",
    "d_prime_m3 = get_d_prime(hit, miss, fa, cr)\n",
    "\n",
    "print('D-prime from model 3 is {}.'.format(d_prime_m3))"
   ]
  },
  {
   "cell_type": "markdown",
   "metadata": {},
   "source": []
  },
  {
   "cell_type": "code",
   "execution_count": null,
   "metadata": {},
   "outputs": [],
   "source": []
  },
  {
   "cell_type": "code",
   "execution_count": null,
   "metadata": {},
   "outputs": [],
   "source": []
  },
  {
   "cell_type": "code",
   "execution_count": null,
   "metadata": {},
   "outputs": [],
   "source": []
  },
  {
   "cell_type": "code",
   "execution_count": null,
   "metadata": {},
   "outputs": [],
   "source": []
  },
  {
   "cell_type": "code",
   "execution_count": null,
   "metadata": {},
   "outputs": [],
   "source": []
  },
  {
   "cell_type": "code",
   "execution_count": null,
   "metadata": {},
   "outputs": [],
   "source": []
  }
 ],
 "metadata": {
  "kernelspec": {
   "display_name": "Python 3",
   "language": "python",
   "name": "python3"
  },
  "language_info": {
   "codemirror_mode": {
    "name": "ipython",
    "version": 3
   },
   "file_extension": ".py",
   "mimetype": "text/x-python",
   "name": "python",
   "nbconvert_exporter": "python",
   "pygments_lexer": "ipython3",
   "version": "3.7.6"
  }
 },
 "nbformat": 4,
 "nbformat_minor": 4
}

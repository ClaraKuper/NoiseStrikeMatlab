{
 "cells": [
  {
   "cell_type": "markdown",
   "metadata": {},
   "source": [
    "The full drift diffusin model with "
   ]
  },
  {
   "cell_type": "code",
   "execution_count": 1,
   "metadata": {},
   "outputs": [
    {
     "data": {
      "text/html": [
       "<div>\n",
       "<style scoped>\n",
       "    .dataframe tbody tr th:only-of-type {\n",
       "        vertical-align: middle;\n",
       "    }\n",
       "\n",
       "    .dataframe tbody tr th {\n",
       "        vertical-align: top;\n",
       "    }\n",
       "\n",
       "    .dataframe thead th {\n",
       "        text-align: right;\n",
       "    }\n",
       "</style>\n",
       "<table border=\"1\" class=\"dataframe\">\n",
       "  <thead>\n",
       "    <tr style=\"text-align: right;\">\n",
       "      <th></th>\n",
       "      <th>Unnamed: 0</th>\n",
       "      <th>trial</th>\n",
       "      <th>time</th>\n",
       "      <th>y_attacker</th>\n",
       "      <th>x_attacker</th>\n",
       "      <th>y_end_attacker</th>\n",
       "      <th>x_target</th>\n",
       "      <th>y_target</th>\n",
       "      <th>goal_mean</th>\n",
       "      <th>goal_upper</th>\n",
       "      <th>goal_lower</th>\n",
       "      <th>p_in</th>\n",
       "      <th>goal_upper_expand</th>\n",
       "      <th>goal_lower_expand</th>\n",
       "      <th>decision_expand</th>\n",
       "      <th>d_prime_expand</th>\n",
       "    </tr>\n",
       "  </thead>\n",
       "  <tbody>\n",
       "    <tr>\n",
       "      <th>0</th>\n",
       "      <td>0</td>\n",
       "      <td>0.0</td>\n",
       "      <td>0.008333</td>\n",
       "      <td>-5.5</td>\n",
       "      <td>-20.00</td>\n",
       "      <td>-5.5</td>\n",
       "      <td>0.0</td>\n",
       "      <td>1.731510</td>\n",
       "      <td>0.0</td>\n",
       "      <td>4.0</td>\n",
       "      <td>-4.0</td>\n",
       "      <td>0.095874</td>\n",
       "      <td>1.731510</td>\n",
       "      <td>1.731510</td>\n",
       "      <td>correct_reject</td>\n",
       "      <td>0.0</td>\n",
       "    </tr>\n",
       "    <tr>\n",
       "      <th>1</th>\n",
       "      <td>1</td>\n",
       "      <td>0.0</td>\n",
       "      <td>0.054444</td>\n",
       "      <td>-5.5</td>\n",
       "      <td>-18.75</td>\n",
       "      <td>-5.5</td>\n",
       "      <td>0.0</td>\n",
       "      <td>-1.818140</td>\n",
       "      <td>0.0</td>\n",
       "      <td>4.0</td>\n",
       "      <td>-4.0</td>\n",
       "      <td>0.172343</td>\n",
       "      <td>1.731510</td>\n",
       "      <td>-1.818140</td>\n",
       "      <td>correct_reject</td>\n",
       "      <td>0.0</td>\n",
       "    </tr>\n",
       "    <tr>\n",
       "      <th>2</th>\n",
       "      <td>2</td>\n",
       "      <td>0.0</td>\n",
       "      <td>0.100556</td>\n",
       "      <td>-5.5</td>\n",
       "      <td>-17.50</td>\n",
       "      <td>-5.5</td>\n",
       "      <td>0.0</td>\n",
       "      <td>2.226061</td>\n",
       "      <td>0.0</td>\n",
       "      <td>4.0</td>\n",
       "      <td>-4.0</td>\n",
       "      <td>0.068870</td>\n",
       "      <td>2.226061</td>\n",
       "      <td>-1.818140</td>\n",
       "      <td>correct_reject</td>\n",
       "      <td>0.0</td>\n",
       "    </tr>\n",
       "    <tr>\n",
       "      <th>3</th>\n",
       "      <td>3</td>\n",
       "      <td>0.0</td>\n",
       "      <td>0.146667</td>\n",
       "      <td>-5.5</td>\n",
       "      <td>-16.25</td>\n",
       "      <td>-5.5</td>\n",
       "      <td>0.0</td>\n",
       "      <td>2.371570</td>\n",
       "      <td>0.0</td>\n",
       "      <td>4.0</td>\n",
       "      <td>-4.0</td>\n",
       "      <td>0.033312</td>\n",
       "      <td>2.371570</td>\n",
       "      <td>-1.818140</td>\n",
       "      <td>correct_reject</td>\n",
       "      <td>0.0</td>\n",
       "    </tr>\n",
       "    <tr>\n",
       "      <th>4</th>\n",
       "      <td>4</td>\n",
       "      <td>0.0</td>\n",
       "      <td>0.192778</td>\n",
       "      <td>-5.5</td>\n",
       "      <td>-15.00</td>\n",
       "      <td>-5.5</td>\n",
       "      <td>0.0</td>\n",
       "      <td>0.740505</td>\n",
       "      <td>0.0</td>\n",
       "      <td>4.0</td>\n",
       "      <td>-4.0</td>\n",
       "      <td>0.033312</td>\n",
       "      <td>2.371570</td>\n",
       "      <td>-1.818140</td>\n",
       "      <td>correct_reject</td>\n",
       "      <td>0.0</td>\n",
       "    </tr>\n",
       "    <tr>\n",
       "      <th>...</th>\n",
       "      <td>...</td>\n",
       "      <td>...</td>\n",
       "      <td>...</td>\n",
       "      <td>...</td>\n",
       "      <td>...</td>\n",
       "      <td>...</td>\n",
       "      <td>...</td>\n",
       "      <td>...</td>\n",
       "      <td>...</td>\n",
       "      <td>...</td>\n",
       "      <td>...</td>\n",
       "      <td>...</td>\n",
       "      <td>...</td>\n",
       "      <td>...</td>\n",
       "      <td>...</td>\n",
       "      <td>...</td>\n",
       "    </tr>\n",
       "    <tr>\n",
       "      <th>15995</th>\n",
       "      <td>11</td>\n",
       "      <td>999.0</td>\n",
       "      <td>0.515556</td>\n",
       "      <td>5.5</td>\n",
       "      <td>-6.25</td>\n",
       "      <td>5.5</td>\n",
       "      <td>0.0</td>\n",
       "      <td>1.295679</td>\n",
       "      <td>0.0</td>\n",
       "      <td>4.0</td>\n",
       "      <td>-4.0</td>\n",
       "      <td>0.000000</td>\n",
       "      <td>3.884249</td>\n",
       "      <td>-3.327805</td>\n",
       "      <td>correct_reject</td>\n",
       "      <td>0.0</td>\n",
       "    </tr>\n",
       "    <tr>\n",
       "      <th>15996</th>\n",
       "      <td>12</td>\n",
       "      <td>999.0</td>\n",
       "      <td>0.561667</td>\n",
       "      <td>5.5</td>\n",
       "      <td>-5.00</td>\n",
       "      <td>5.5</td>\n",
       "      <td>0.0</td>\n",
       "      <td>-1.010079</td>\n",
       "      <td>0.0</td>\n",
       "      <td>4.0</td>\n",
       "      <td>-4.0</td>\n",
       "      <td>0.000000</td>\n",
       "      <td>3.884249</td>\n",
       "      <td>-3.327805</td>\n",
       "      <td>correct_reject</td>\n",
       "      <td>0.0</td>\n",
       "    </tr>\n",
       "    <tr>\n",
       "      <th>15997</th>\n",
       "      <td>13</td>\n",
       "      <td>999.0</td>\n",
       "      <td>0.607778</td>\n",
       "      <td>5.5</td>\n",
       "      <td>-3.75</td>\n",
       "      <td>5.5</td>\n",
       "      <td>0.0</td>\n",
       "      <td>2.134271</td>\n",
       "      <td>0.0</td>\n",
       "      <td>4.0</td>\n",
       "      <td>-4.0</td>\n",
       "      <td>0.000000</td>\n",
       "      <td>3.884249</td>\n",
       "      <td>-3.327805</td>\n",
       "      <td>correct_reject</td>\n",
       "      <td>0.0</td>\n",
       "    </tr>\n",
       "    <tr>\n",
       "      <th>15998</th>\n",
       "      <td>14</td>\n",
       "      <td>999.0</td>\n",
       "      <td>0.653889</td>\n",
       "      <td>5.5</td>\n",
       "      <td>-2.50</td>\n",
       "      <td>5.5</td>\n",
       "      <td>0.0</td>\n",
       "      <td>-2.166901</td>\n",
       "      <td>0.0</td>\n",
       "      <td>4.0</td>\n",
       "      <td>-4.0</td>\n",
       "      <td>0.000000</td>\n",
       "      <td>3.884249</td>\n",
       "      <td>-3.327805</td>\n",
       "      <td>correct_reject</td>\n",
       "      <td>0.0</td>\n",
       "    </tr>\n",
       "    <tr>\n",
       "      <th>15999</th>\n",
       "      <td>15</td>\n",
       "      <td>999.0</td>\n",
       "      <td>0.700000</td>\n",
       "      <td>5.5</td>\n",
       "      <td>-1.25</td>\n",
       "      <td>5.5</td>\n",
       "      <td>0.0</td>\n",
       "      <td>2.805240</td>\n",
       "      <td>0.0</td>\n",
       "      <td>4.0</td>\n",
       "      <td>-4.0</td>\n",
       "      <td>0.000000</td>\n",
       "      <td>3.884249</td>\n",
       "      <td>-3.327805</td>\n",
       "      <td>correct_reject</td>\n",
       "      <td>0.0</td>\n",
       "    </tr>\n",
       "  </tbody>\n",
       "</table>\n",
       "<p>16000 rows × 16 columns</p>\n",
       "</div>"
      ],
      "text/plain": [
       "       Unnamed: 0  trial      time  y_attacker  x_attacker  y_end_attacker  \\\n",
       "0               0    0.0  0.008333        -5.5      -20.00            -5.5   \n",
       "1               1    0.0  0.054444        -5.5      -18.75            -5.5   \n",
       "2               2    0.0  0.100556        -5.5      -17.50            -5.5   \n",
       "3               3    0.0  0.146667        -5.5      -16.25            -5.5   \n",
       "4               4    0.0  0.192778        -5.5      -15.00            -5.5   \n",
       "...           ...    ...       ...         ...         ...             ...   \n",
       "15995          11  999.0  0.515556         5.5       -6.25             5.5   \n",
       "15996          12  999.0  0.561667         5.5       -5.00             5.5   \n",
       "15997          13  999.0  0.607778         5.5       -3.75             5.5   \n",
       "15998          14  999.0  0.653889         5.5       -2.50             5.5   \n",
       "15999          15  999.0  0.700000         5.5       -1.25             5.5   \n",
       "\n",
       "       x_target  y_target  goal_mean  goal_upper  goal_lower      p_in  \\\n",
       "0           0.0  1.731510        0.0         4.0        -4.0  0.095874   \n",
       "1           0.0 -1.818140        0.0         4.0        -4.0  0.172343   \n",
       "2           0.0  2.226061        0.0         4.0        -4.0  0.068870   \n",
       "3           0.0  2.371570        0.0         4.0        -4.0  0.033312   \n",
       "4           0.0  0.740505        0.0         4.0        -4.0  0.033312   \n",
       "...         ...       ...        ...         ...         ...       ...   \n",
       "15995       0.0  1.295679        0.0         4.0        -4.0  0.000000   \n",
       "15996       0.0 -1.010079        0.0         4.0        -4.0  0.000000   \n",
       "15997       0.0  2.134271        0.0         4.0        -4.0  0.000000   \n",
       "15998       0.0 -2.166901        0.0         4.0        -4.0  0.000000   \n",
       "15999       0.0  2.805240        0.0         4.0        -4.0  0.000000   \n",
       "\n",
       "       goal_upper_expand  goal_lower_expand decision_expand  d_prime_expand  \n",
       "0               1.731510           1.731510  correct_reject             0.0  \n",
       "1               1.731510          -1.818140  correct_reject             0.0  \n",
       "2               2.226061          -1.818140  correct_reject             0.0  \n",
       "3               2.371570          -1.818140  correct_reject             0.0  \n",
       "4               2.371570          -1.818140  correct_reject             0.0  \n",
       "...                  ...                ...             ...             ...  \n",
       "15995           3.884249          -3.327805  correct_reject             0.0  \n",
       "15996           3.884249          -3.327805  correct_reject             0.0  \n",
       "15997           3.884249          -3.327805  correct_reject             0.0  \n",
       "15998           3.884249          -3.327805  correct_reject             0.0  \n",
       "15999           3.884249          -3.327805  correct_reject             0.0  \n",
       "\n",
       "[16000 rows x 16 columns]"
      ]
     },
     "execution_count": 1,
     "metadata": {},
     "output_type": "execute_result"
    }
   ],
   "source": [
    "# Full drift diffusion model \n",
    "# September 2020, Clara Kuper\n",
    "\n",
    "# This script implements noise free drift diffusion models that simulate the selection of action plans.\n",
    "\n",
    "import numpy as np\n",
    "import matplotlib.pyplot as plt\n",
    "import pandas as pd\n",
    "from scipy import stats\n",
    "from scipy.stats import uniform\n",
    "import ipywidgets as widgets\n",
    "from IPython.display import display\n",
    "\n",
    "df = pd.read_csv('sim1000.csv')\n",
    "df"
   ]
  },
  {
   "cell_type": "code",
   "execution_count": 2,
   "metadata": {},
   "outputs": [],
   "source": [
    "# Set the parameters that will be estimated later:\n",
    "\n",
    "thresh_drift = 0.01 #difference units drift\n",
    "thresh_pause = 0.01 #difference units drift\n",
    "dur_pause = 0.010 #in s\n",
    "thresh_dec = 10 #drift\n",
    "\n",
    "\n",
    "# Compute\n",
    "\n",
    "# Step 1: Compute the certainty at each time step.\n",
    "# We use a cumulative density function to estimate how likely the attacker is inside the goal.\n",
    "# For that, we normalize the location of the goal (centered at \"0\") and collapse the space on one side.\n",
    "\n",
    "def get_p_in(upper_known,lower_known,attacker,full_width):\n",
    "    \n",
    "    \"\"\"\n",
    "    Normalizes the upper and lower bounds to compute how likely the attacker is to hit the goal, given the distance between\n",
    "    attacker and last known point of the goal\n",
    "    \n",
    "    input:\n",
    "    upper_known: np array or pandas series, holding the presented upper part of the goal (can span several trials)\n",
    "    lower_known: np array or pandas series, holding the lower presented part of the goal (can span several trials)\n",
    "    attacker: np array or pandas series, holding the (estimated) end point of the attacker (must have as many entries as the two other vectors)\n",
    "    full_width: the span that is covered by the full goal\n",
    "    \n",
    "    returns:\n",
    "    P_in: the probability that the attacker is inside the goal (value between 0 and 1)\n",
    "    \n",
    "    \"\"\"\n",
    "    \n",
    "    # part 1: normalize the values to be alligned with the mean of the known goal, and to have positive values\n",
    "    mean_goal = (upper_known + lower_known)/2    \n",
    "    upper_norm = abs(upper_known - mean_goal)\n",
    "    lower_norm = abs(lower_known - mean_goal)\n",
    "    attacker_norm = abs(attacker - mean_goal)\n",
    "    \n",
    "    # part 2: compute the covered and the unknown size of the goal\n",
    "    covered_goal = abs(upper_known - lower_known)\n",
    "    free_width = full_width - covered_goal\n",
    "\n",
    "    # part 3: compute the probability that the attacker hits inside the goal\n",
    "    p_in = 1 - uniform.cdf(attacker_norm, loc = upper_norm, scale = free_width)\n",
    "    \n",
    "    return p_in\n",
    "\n",
    "full_width = abs(df['goal_upper'][0]-df['goal_lower'][0])\n",
    "\n",
    "p_in = get_p_in(df['goal_upper_expand'],df['goal_lower_expand'],df['y_end_attacker'],full_width)"
   ]
  },
  {
   "cell_type": "code",
   "execution_count": 3,
   "metadata": {},
   "outputs": [],
   "source": [
    "# Find the difference between probabilities from stimulus to stimulus\n",
    "# add a zero in front to get the first entry\n",
    "p_in_pad = np.hstack([0,p_in])\n",
    "# compute absolute difference\n",
    "p_in_diff = abs(np.diff(p_in_pad))\n",
    "# replace the beginning of a new trial with the initial probability\n",
    "zero_idx = np.where(df.iloc[:,0]==0)\n",
    "p_in_diff[zero_idx] = p_in[zero_idx]\n",
    "df['p_in'] = p_in\n",
    "df['p_in_diff'] = p_in_diff"
   ]
  },
  {
   "cell_type": "code",
   "execution_count": 4,
   "metadata": {},
   "outputs": [],
   "source": [
    "# Compute the reaction time, for each trial, drift till threshold is reached, substract not needed reaction time\n",
    "def get_RT(trial_data,thresh_dec,thresh_pause,thresh_drift,dur_pause,offset = 0):\n",
    "    \n",
    "    \"\"\"\n",
    "    Get the reaction time for a single trial\n",
    "    input:\n",
    "    trial_data: pandas data set with one line per new stimulus, all from one trial, contains at least the fields \"p_in\", \"p_in_diff\",\n",
    "    \"time\"\n",
    "    thresh_dec: the boundary for a \"go\" decision\n",
    "    thresh_pause: the boundary to stop a motor plan\n",
    "    thresh_drift: the boundary to change the drift rate\n",
    "    dur_pause: the duration of a drift stop\n",
    "    \n",
    "    output: RT, reaction time in seconds\n",
    "    \"\"\"\n",
    "    \n",
    "    dec = offset\n",
    "    drift = trial_data['p_in']\n",
    "    # normalize the drift rate so that it can be positive and negative:\n",
    "    drift = drift - 0.5\n",
    "    diff = trial_data['p_in_diff']\n",
    "    # find the time between presentations of one stimulus \n",
    "    delta_t = trial_data['time'].iloc[1]-trial_data['time'].iloc[0]\n",
    "    \n",
    "    # intialize some values\n",
    "    idx = 0\n",
    "    drift_val = 0\n",
    "    \n",
    "    # while the decison threshold is not crossed and the trial is not over:\n",
    "    while abs(dec) < thresh_dec and idx<15:\n",
    "        \n",
    "        # Check if the new drift rate is taken\n",
    "        # For now, we use the difference between two points to adjust this, not the difference between the currently \n",
    "        # used drift and the newly suggested drift\n",
    "        if diff.iloc[idx]>thresh_drift:\n",
    "            drift_val = drift.iloc[idx]*1000\n",
    "        \n",
    "        # compute if we need to stop\n",
    "        stop_reached = diff.iloc[idx]-thresh_pause\n",
    "        \n",
    "        # drift and stop if needed\n",
    "        delta_dec = drift_val*(delta_t - np.heaviside(stop_reached,1)*dur_pause)\n",
    "        dec += delta_dec\n",
    "        idx += 1\n",
    "    \n",
    "    #compute the duration of one trial\n",
    "    duration = trial_data['time'].iloc[idx]\n",
    "    \n",
    "    #compute the distance to the \"true\" threshold and set this as reaction time.\n",
    "    overshoot = abs(dec)-thresh_dec\n",
    "    #define the response in this trial (which boundary was reached)\n",
    "    go_no = np.heaviside(dec,0.5)\n",
    "    \n",
    "    RT = duration - overshoot/drift_val\n",
    "    return RT, go_no\n",
    "    \n",
    "RT, go_no = get_RT(df[0:15],thresh_dec,thresh_pause,thresh_drift,dur_pause)"
   ]
  },
  {
   "cell_type": "code",
   "execution_count": 5,
   "metadata": {},
   "outputs": [],
   "source": [
    "# Get the reaction time and decision for every \n",
    "trials = np.unique(df['trial'])\n",
    "RTs = np.zeros(len(trials))"
   ]
  },
  {
   "cell_type": "code",
   "execution_count": 6,
   "metadata": {},
   "outputs": [
    {
     "name": "stderr",
     "output_type": "stream",
     "text": [
      "C:\\Users\\ClaraQ\\anaconda3\\lib\\site-packages\\ipykernel_launcher.py:54: RuntimeWarning: divide by zero encountered in double_scalars\n"
     ]
    }
   ],
   "source": [
    "for trial in trials:\n",
    "    idx_trial = np.where(df['trial'] == trial)[0]\n",
    "    trial_data = df.iloc[idx_trial]\n",
    "    \n",
    "    RTs[int(trial)], go = get_RT(trial_data,thresh_dec,thresh_pause,thresh_drift,dur_pause)"
   ]
  },
  {
   "cell_type": "code",
   "execution_count": 7,
   "metadata": {},
   "outputs": [
    {
     "data": {
      "text/plain": [
       "(array([517., 219., 106.,  46.,  26.,  10.,   5.,   2.,   2.,   1.]),\n",
       " array([0.03835637, 0.0939002 , 0.14944403, 0.20498786, 0.26053168,\n",
       "        0.31607551, 0.37161934, 0.42716317, 0.482707  , 0.53825083,\n",
       "        0.59379465]),\n",
       " <a list of 10 Patch objects>)"
      ]
     },
     "execution_count": 7,
     "metadata": {},
     "output_type": "execute_result"
    },
    {
     "data": {
      "image/png": "[encoded data removed]",
      "text/plain": [
       "<Figure size 432x288 with 1 Axes>"
      ]
     },
     "metadata": {
      "needs_background": "light"
     },
     "output_type": "display_data"
    }
   ],
   "source": [
    "inf_vals = np.where(RTs == float('inf'))\n",
    "\n",
    "RTs = np.delete(RTs,inf_vals)\n",
    "fig1, axs1 = plt.subplots(1,1)\n",
    "axs1.hist(RTs)"
   ]
  },
  {
   "cell_type": "code",
   "execution_count": 47,
   "metadata": {},
   "outputs": [
    {
     "data": {
      "application/vnd.jupyter.widget-view+json": {
       "model_id": "3426cdde9a214f3a8660312cb9c04b77",
       "version_major": 2,
       "version_minor": 0
      },
      "text/plain": [
       "FloatSlider(value=0.01, description='Threshold to change drift:', max=0.2, step=0.001)"
      ]
     },
     "metadata": {},
     "output_type": "display_data"
    },
    {
     "data": {
      "application/vnd.jupyter.widget-view+json": {
       "model_id": "dcdbf50caa014fb7afbd3a18b7ed6ca0",
       "version_major": 2,
       "version_minor": 0
      },
      "text/plain": [
       "FloatSlider(value=0.01, description='Threshold to pause:', max=0.2, step=0.001)"
      ]
     },
     "metadata": {},
     "output_type": "display_data"
    },
    {
     "data": {
      "application/vnd.jupyter.widget-view+json": {
       "model_id": "fa9edf0109ac4b6aad753f0649311cc8",
       "version_major": 2,
       "version_minor": 0
      },
      "text/plain": [
       "FloatSlider(value=0.01, description='How long to pause:', max=0.4, step=0.002)"
      ]
     },
     "metadata": {},
     "output_type": "display_data"
    },
    {
     "data": {
      "application/vnd.jupyter.widget-view+json": {
       "model_id": "000bd97cf8dc453b86b7f827f1b6f651",
       "version_major": 2,
       "version_minor": 0
      },
      "text/plain": [
       "FloatSlider(value=10.0, description='Threshold to make a desision:', max=500.0)"
      ]
     },
     "metadata": {},
     "output_type": "display_data"
    }
   ],
   "source": [
    "drift_slider = widgets.FloatSlider(min=0,\n",
    "    max=0.2,\n",
    "    step=0.001,\n",
    "    description='Threshold to change drift:',\n",
    "    value=0.01) #difference units drift\n",
    "pause_slider = widgets.FloatSlider(min=0,\n",
    "    max=0.2,\n",
    "    step=0.001,\n",
    "    description='Threshold to pause:',\n",
    "    value=0.01) #difference units drift\n",
    "dur_pause_slider = widgets.FloatSlider(min=0,\n",
    "    max=0.4,\n",
    "    step=0.002,\n",
    "    description='How long to pause:',\n",
    "    value=0.01) #in s\n",
    "dec_slider = widgets.FloatSlider(min=0,\n",
    "    max=500,\n",
    "    step=0.1,\n",
    "    description='Threshold to make a desision:',\n",
    "    value=10) #drift\n",
    "\n",
    "    \n",
    "display(drift_slider, pause_slider, dur_pause_slider, dec_slider)"
   ]
  },
  {
   "cell_type": "code",
   "execution_count": 56,
   "metadata": {},
   "outputs": [
    {
     "name": "stderr",
     "output_type": "stream",
     "text": [
      "C:\\Users\\ClaraQ\\anaconda3\\lib\\site-packages\\ipykernel_launcher.py:54: RuntimeWarning: divide by zero encountered in double_scalars\n"
     ]
    },
    {
     "data": {
      "text/plain": [
       "(array([152., 105.,  88.,  49.,  47.,  40.,  48.,  38.,  44.,  32.,  30.,\n",
       "         23.,  17.,  20.,  19.,  15.,  15.,  13.,  11.,   8.]),\n",
       " array([0.  , 0.03, 0.06, 0.09, 0.12, 0.15, 0.18, 0.21, 0.24, 0.27, 0.3 ,\n",
       "        0.33, 0.36, 0.39, 0.42, 0.45, 0.48, 0.51, 0.54, 0.57, 0.6 ]),\n",
       " <a list of 20 Patch objects>)"
      ]
     },
     "execution_count": 56,
     "metadata": {},
     "output_type": "execute_result"
    },
    {
     "data": {
      "image/png": "[encoded data removed]",
      "text/plain": [
       "<Figure size 432x288 with 1 Axes>"
      ]
     },
     "metadata": {
      "needs_background": "light"
     },
     "output_type": "display_data"
    }
   ],
   "source": [
    "thresh_drift = drift_slider.value #difference units drift\n",
    "thresh_pause = pause_slider.value #difference units drift\n",
    "dur_pause = dur_pause_slider.value #in s\n",
    "thresh_dec = dec_slider.value #drift\n",
    "\n",
    "RTs = np.zeros(len(trials))\n",
    "for trial in trials:\n",
    "    idx_trial = np.where(df['trial'] == trial)[0]\n",
    "    trial_data = df.iloc[idx_trial]\n",
    "    \n",
    "    RTs[int(trial)], go = get_RT(trial_data,thresh_dec,thresh_pause,thresh_drift,dur_pause)\n",
    "    \n",
    "inf_vals = np.where(RTs == float('inf'))\n",
    "\n",
    "RTs = np.delete(RTs,inf_vals)\n",
    "fig2, axs2 = plt.subplots(1,1)\n",
    "axs2.hist(RTs,range = (0,0.6), bins = 20)"
   ]
  },
  {
   "cell_type": "code",
   "execution_count": 19,
   "metadata": {},
   "outputs": [
    {
     "data": {
      "text/plain": [
       "625"
      ]
     },
     "execution_count": 19,
     "metadata": {},
     "output_type": "execute_result"
    }
   ],
   "source": []
  }
 ],
 "metadata": {
  "kernelspec": {
   "display_name": "Python 3",
   "language": "python",
   "name": "python3"
  },
  "language_info": {
   "codemirror_mode": {
    "name": "ipython",
    "version": 3
   },
   "file_extension": ".py",
   "mimetype": "text/x-python",
   "name": "python",
   "nbconvert_exporter": "python",
   "pygments_lexer": "ipython3",
   "version": "3.7.6"
  }
 },
 "nbformat": 4,
 "nbformat_minor": 4
}

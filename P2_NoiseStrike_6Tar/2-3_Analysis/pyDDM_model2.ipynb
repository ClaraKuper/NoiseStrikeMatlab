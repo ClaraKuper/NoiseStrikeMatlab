{
 "cells": [
  {
   "cell_type": "code",
   "execution_count": 1,
   "metadata": {},
   "outputs": [],
   "source": [
    "import numpy as np\n",
    "import matplotlib.pyplot as plt\n",
    "import pandas as pd\n",
    "from ddm import Fittable, Model, Sample, Bound\n",
    "from ddm.models import LossRobustBIC, DriftConstant, NoiseConstant, BoundConstant, OverlayNonDecision, Drift\n",
    "from ddm.functions import fit_adjust_model, display_model\n",
    "import ddm.plot"
   ]
  },
  {
   "cell_type": "code",
   "execution_count": 2,
   "metadata": {},
   "outputs": [],
   "source": [
    "# import my file\n",
    "my_file = pd.read_csv('../2_cleaned/df_verbose.csv', sep = ',')\n",
    "# reduce to one subject\n",
    "my_file = my_file[my_file.subject == 'AD']\n",
    "# only get 'go responses'\n",
    "my_file = my_file[my_file.goResp == 1]\n",
    "# compute an answer variable\n",
    "my_file['answer'] = 1-abs(my_file.goResp - my_file.hitGoal) \n",
    "# compute the reaction time in ms\n",
    "my_file.loc[:,'handmoveTimeMsGo'] = my_file['handmoveTimeMsGo']/1000 \n",
    "# drift diffusion models track the evidence for one output over another.\n",
    "# in this implementation, the upper bound represents a correct outcome, the lower bound represents an incorrect outcome\n",
    "# therefore, we need to scale our evidence (probability of a hit) such that it reflects the similarity to the true outcome \n",
    "# of the trial. (Large, when there is no difference between the true outcome and the evidence), 0 when it's neutral, 1 when \n",
    "# there's evidence for the opposite outcome\n",
    "\n",
    "my_file.loc[:,'sampleProbHit_01'] = 2 * (0.5 - abs(my_file['hitGoal']-my_file['sampleProbHit_01']))\n",
    "my_file.loc[:,'sampleProbHit_02'] = 2 * (0.5 - abs(my_file['hitGoal']-my_file['sampleProbHit_02'])) \n",
    "my_file.loc[:,'sampleProbHit_03'] = 2 * (0.5 - abs(my_file['hitGoal']-my_file['sampleProbHit_03'])) \n",
    "my_file.loc[:,'sampleProbHit_04'] = 2 * (0.5 - abs(my_file['hitGoal']-my_file['sampleProbHit_04'])) \n",
    "my_file.loc[:,'sampleProbHit_05'] = 2 * (0.5 - abs(my_file['hitGoal']-my_file['sampleProbHit_05'])) \n",
    "my_file.loc[:,'sampleProbHit_06'] = 2 * (0.5 - abs(my_file['hitGoal']-my_file['sampleProbHit_06'])) \n",
    "\n",
    "# reduce my data file to the neccesary columns\n",
    "my_file = my_file.loc[:,['handmoveTimeMsGo', 'answer', 'sampleProbHit_01', 'sampleProbHit_02', 'sampleProbHit_03', 'sampleProbHit_04', 'sampleProbHit_05', 'sampleProbHit_06']]\n",
    "\n",
    "# drop all rows that contain nans and reset the index \n",
    "my_file.dropna(axis = 1, inplace = True)\n",
    "my_file.reset_index(drop = True, inplace = True)\n",
    "\n",
    "# turn my datafile into a pyDDM sample\n",
    "sample = Sample.from_pandas_dataframe(my_file, rt_column_name=\"handmoveTimeMsGo\", correct_column_name=\"answer\")"
   ]
  },
  {
   "cell_type": "code",
   "execution_count": 3,
   "metadata": {},
   "outputs": [],
   "source": [
    "class BoundCollapsingExponentialDelay(Bound):\n",
    "    \"\"\"Bound collapses exponentially over time.\n",
    "\n",
    "    Takes three parameters: \n",
    "\n",
    "    `B` - the bound at time t = 0.\n",
    "    `tau` - the time constant for the collapse, should be greater than\n",
    "    zero.\n",
    "    `t1` - the time at which the collapse begins, in seconds\n",
    "    \"\"\"\n",
    "    name = \"Delayed exponential collapsing bound\"\n",
    "    required_parameters = [\"B\", \"tau\", \"t1\"]\n",
    "    def get_bound(self, t, conditions, **kwargs):\n",
    "        if t <= self.t1:\n",
    "            return self.B\n",
    "        if t > self.t1:\n",
    "            return self.B * np.exp(-self.tau*(t-self.t1))"
   ]
  },
  {
   "cell_type": "code",
   "execution_count": 4,
   "metadata": {},
   "outputs": [],
   "source": [
    "## define a drift class for the second model\n",
    "import numpy as np\n",
    "from ddm.models import Drift\n",
    "class ThreshDrift(Drift):\n",
    "    name = \"drifts with the first value above threshold\"\n",
    "    required_conditions = [\"sampleProbHit_01\", \"sampleProbHit_02\", \"sampleProbHit_03\", \"sampleProbHit_04\", \"sampleProbHit_05\", \"sampleProbHit_06\"]\n",
    "    required_parameters = [\"scale\",\"thresh\"]\n",
    "    drift_value = 0\n",
    "    time_schema = np.linspace(0, 0.88, 6)\n",
    "    def get_drift(self, t, conditions, **kwargs):\n",
    "        passed = self.time_schema[(self.time_schema - t)<=0]\n",
    "        prob = self.required_conditions[np.argmax(passed)]\n",
    "        if (conditions[prob] > self.thresh) and (self.drift_value == 0):\n",
    "            ThreshDrift.drift_value = conditions[prob]*self.scale\n",
    "        return self.drift_value"
   ]
  },
  {
   "cell_type": "code",
   "execution_count": 5,
   "metadata": {},
   "outputs": [
    {
     "name": "stdout",
     "output_type": "stream",
     "text": [
      "Params [6.51403137 0.82366814 2.26451312 4.65892956 0.21839833 0.33196981] gave 78.56849917189507\n"
     ]
    },
    {
     "data": {
      "text/plain": [
       "Model(name='drift starts after threshold was crossed', drift=ThreshDrift(scale=Fitted(6.514031373318588, minval=1, maxval=10), thresh=Fitted(0.8236681364865985, minval=0.1, maxval=1)), noise=NoiseConstant(noise=Fitted(2.264513120298618, minval=0.5, maxval=4)), bound=BoundCollapsingExponentialDelay(B=1, tau=Fitted(4.658929561559515, minval=0.1, maxval=5), t1=Fitted(0.21839832520132174, minval=0, maxval=1)), IC=ICPointSourceCenter(), overlay=OverlayNonDecision(nondectime=Fitted(0.33196980974168144, minval=0, maxval=1)), dx=0.001, dt=0.01, T_dur=1, fitresult=FitResult(fitting_method='differential_evolution', method='auto', loss='BIC', value=78.56849917189507, nparams=6, samplesize=1296, mess=''))"
      ]
     },
     "execution_count": 5,
     "metadata": {},
     "output_type": "execute_result"
    }
   ],
   "source": [
    "## define the second model\n",
    "model2_fit = Model(name='drift starts after threshold was crossed',\n",
    "                  drift= ThreshDrift(scale = Fittable(minval=1, maxval=10),thresh = Fittable(minval = 0.1, maxval = 1)),\n",
    "                  noise=NoiseConstant(noise=Fittable(minval=.5, maxval=4)),\n",
    "                  bound=BoundCollapsingExponentialDelay(B=1,\n",
    "                                           tau=Fittable(minval=0.1, maxval=5),\n",
    "                                           t1=Fittable(minval=0, maxval=1)),\n",
    "                  overlay=OverlayNonDecision(nondectime=Fittable(minval=0, maxval=1)),\n",
    "                  dx=.001, dt=.01, T_dur=1)\n",
    "\n",
    "fit_adjust_model(sample, model2_fit,lossfunction=LossRobustBIC, verbose=False)"
   ]
  },
  {
   "cell_type": "code",
   "execution_count": null,
   "metadata": {},
   "outputs": [],
   "source": []
  },
  {
   "cell_type": "code",
   "execution_count": 6,
   "metadata": {},
   "outputs": [],
   "source": [
    "import pickle\n",
    "path_models = '../2-3_Fitted/pyDDM_Models/'\n",
    "\n",
    "with open(path_models + 'ddm2_30_04.pkl', 'wb') as output:\n",
    "    pickle.dump(model2_fit, output, pickle.HIGHEST_PROTOCOL)"
   ]
  }
 ],
 "metadata": {
  "kernelspec": {
   "display_name": "Python 3",
   "language": "python",
   "name": "python3"
  },
  "language_info": {
   "codemirror_mode": {
    "name": "ipython",
    "version": 3
   },
   "file_extension": ".py",
   "mimetype": "text/x-python",
   "name": "python",
   "nbconvert_exporter": "python",
   "pygments_lexer": "ipython3",
   "version": "3.7.6"
  }
 },
 "nbformat": 4,
 "nbformat_minor": 4
}
